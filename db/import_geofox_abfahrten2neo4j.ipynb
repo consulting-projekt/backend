{
 "cells": [
  {
   "cell_type": "code",
   "execution_count": 1,
   "metadata": {},
   "outputs": [],
   "source": [
    "import neo4j\n",
    "import pandas as pd\n",
    "from utils_neo4j import init, add_station_relationships\n",
    "import pandas as pd"
   ]
  },
  {
   "cell_type": "code",
   "execution_count": 2,
   "metadata": {},
   "outputs": [],
   "source": [
    "NEO4J_URI = \"bolt://localhost:7689\"\n",
    "NEO4J_USER = \"neo4j\"\n",
    "NEO4J_PASSWORD = \"busticket123\"\n",
    "\n",
    "driver = neo4j.GraphDatabase.driver(NEO4J_URI, auth=(NEO4J_USER, NEO4J_PASSWORD))\n",
    "init(driver)"
   ]
  },
  {
   "cell_type": "code",
   "execution_count": 3,
   "metadata": {},
   "outputs": [],
   "source": [
    "# load departures preproc from json\n",
    "departures_preproc = pd.read_csv(\"data_geofox/departures_all_preproc2.csv\")"
   ]
  },
  {
   "cell_type": "code",
   "execution_count": 4,
   "metadata": {},
   "outputs": [
    {
     "data": {
      "text/html": [
       "<div>\n",
       "<style scoped>\n",
       "    .dataframe tbody tr th:only-of-type {\n",
       "        vertical-align: middle;\n",
       "    }\n",
       "\n",
       "    .dataframe tbody tr th {\n",
       "        vertical-align: top;\n",
       "    }\n",
       "\n",
       "    .dataframe thead th {\n",
       "        text-align: right;\n",
       "    }\n",
       "</style>\n",
       "<table border=\"1\" class=\"dataframe\">\n",
       "  <thead>\n",
       "    <tr style=\"text-align: right;\">\n",
       "      <th></th>\n",
       "      <th>from_station</th>\n",
       "      <th>from_station_id</th>\n",
       "      <th>to_station</th>\n",
       "      <th>line_unique</th>\n",
       "      <th>line_name</th>\n",
       "      <th>line_info</th>\n",
       "      <th>departure_times</th>\n",
       "      <th>arrival_times</th>\n",
       "      <th>duration</th>\n",
       "    </tr>\n",
       "  </thead>\n",
       "  <tbody>\n",
       "    <tr>\n",
       "      <th>0</th>\n",
       "      <td>A Burgwedel</td>\n",
       "      <td>Master:86007</td>\n",
       "      <td>Basselweg</td>\n",
       "      <td>HHA-B:603_HHA-B#Grothwisch#Rathausmarkt</td>\n",
       "      <td>603</td>\n",
       "      <td>Niederflur-Nachtbus</td>\n",
       "      <td>['2025-04-03 01:02:00']</td>\n",
       "      <td>['2025-04-03 01:03:00']</td>\n",
       "      <td>1</td>\n",
       "    </tr>\n",
       "    <tr>\n",
       "      <th>1</th>\n",
       "      <td>A Burgwedel</td>\n",
       "      <td>Master:86007</td>\n",
       "      <td>Bezirksamt Eimsbüttel</td>\n",
       "      <td>HHA-B:5_HHA-B#A Burgwedel#Hauptbahnhof/ZOB</td>\n",
       "      <td>5</td>\n",
       "      <td>Niederflur Metrobus</td>\n",
       "      <td>['2025-04-03 05:04:00', '2025-04-03 19:34:00',...</td>\n",
       "      <td>['2025-04-03 05:05:00', '2025-04-03 19:35:00',...</td>\n",
       "      <td>1</td>\n",
       "    </tr>\n",
       "    <tr>\n",
       "      <th>2</th>\n",
       "      <td>A Burgwedel</td>\n",
       "      <td>Master:86007</td>\n",
       "      <td>Bf. Dammtor</td>\n",
       "      <td>HHA-B:5_HHA-B#A Burgwedel#Hauptbahnhof/ZOB</td>\n",
       "      <td>5</td>\n",
       "      <td>Niederflur Metrobus</td>\n",
       "      <td>['2025-04-03 06:49:00', '2025-04-03 06:59:00',...</td>\n",
       "      <td>['2025-04-03 06:50:00', '2025-04-03 07:00:00',...</td>\n",
       "      <td>1</td>\n",
       "    </tr>\n",
       "    <tr>\n",
       "      <th>3</th>\n",
       "      <td>A Burgwedel</td>\n",
       "      <td>Master:86007</td>\n",
       "      <td>Bindfeldweg</td>\n",
       "      <td>HHA-B:5_HHA-B#A Burgwedel#Hauptbahnhof/ZOB</td>\n",
       "      <td>5</td>\n",
       "      <td>Niederflur Metrobus</td>\n",
       "      <td>['2025-04-03 05:53:00', '2025-04-03 06:03:00',...</td>\n",
       "      <td>['2025-04-03 05:54:00', '2025-04-03 06:04:00',...</td>\n",
       "      <td>1</td>\n",
       "    </tr>\n",
       "    <tr>\n",
       "      <th>4</th>\n",
       "      <td>A Burgwedel</td>\n",
       "      <td>Master:86007</td>\n",
       "      <td>Freizeitbad Bondenwald</td>\n",
       "      <td>HHA-B:5_HHA-B#A Burgwedel#Hauptbahnhof/ZOB</td>\n",
       "      <td>5</td>\n",
       "      <td>Niederflur Metrobus</td>\n",
       "      <td>['2025-04-03 07:05:00', '2025-04-03 07:15:00',...</td>\n",
       "      <td>['2025-04-03 07:06:00', '2025-04-03 07:16:00',...</td>\n",
       "      <td>1</td>\n",
       "    </tr>\n",
       "    <tr>\n",
       "      <th>...</th>\n",
       "      <td>...</td>\n",
       "      <td>...</td>\n",
       "      <td>...</td>\n",
       "      <td>...</td>\n",
       "      <td>...</td>\n",
       "      <td>...</td>\n",
       "      <td>...</td>\n",
       "      <td>...</td>\n",
       "      <td>...</td>\n",
       "    </tr>\n",
       "    <tr>\n",
       "      <th>65318</th>\n",
       "      <td>Überseering (West)</td>\n",
       "      <td>Master:70017</td>\n",
       "      <td>Ohlsdorfer Straße (Planetarium)</td>\n",
       "      <td>HHA-B:20_HHA-B#S Rübenkamp#Winterhuder Marktplatz</td>\n",
       "      <td>20</td>\n",
       "      <td>Niederflur Metrobus</td>\n",
       "      <td>['2025-04-03 23:19:00', '2025-04-03 23:39:00']</td>\n",
       "      <td>['2025-04-03 23:21:00', '2025-04-03 23:41:00']</td>\n",
       "      <td>2</td>\n",
       "    </tr>\n",
       "    <tr>\n",
       "      <th>65319</th>\n",
       "      <td>Überseering (West)</td>\n",
       "      <td>Master:70017</td>\n",
       "      <td>S Poppenbüttel (Wentzelplatz)</td>\n",
       "      <td>HHA-B:179_HHA-B#S Poppenbüttel (Wentzelplatz)#...</td>\n",
       "      <td>179</td>\n",
       "      <td>Niederflur Stadtbus</td>\n",
       "      <td>['2025-04-03 07:50:00', '2025-04-03 08:10:00',...</td>\n",
       "      <td>['2025-04-03 07:51:00', '2025-04-03 08:11:00',...</td>\n",
       "      <td>2</td>\n",
       "    </tr>\n",
       "    <tr>\n",
       "      <th>65320</th>\n",
       "      <td>Überseering (West)</td>\n",
       "      <td>Master:70017</td>\n",
       "      <td>Schulbergredder</td>\n",
       "      <td>HHA-B:179_HHA-B#S Poppenbüttel (Wentzelplatz)#...</td>\n",
       "      <td>179</td>\n",
       "      <td>Niederflur Stadtbus</td>\n",
       "      <td>['2025-04-03 05:27:00']</td>\n",
       "      <td>['2025-04-03 05:29:00']</td>\n",
       "      <td>2</td>\n",
       "    </tr>\n",
       "    <tr>\n",
       "      <th>65321</th>\n",
       "      <td>Überseering (West)</td>\n",
       "      <td>Master:70017</td>\n",
       "      <td>Schulweg</td>\n",
       "      <td>HHA-B:20_HHA-B#Bf. Altona#S Rübenkamp</td>\n",
       "      <td>20</td>\n",
       "      <td>Niederflur Metrobus</td>\n",
       "      <td>['2025-04-03 05:13:00', '2025-04-03 05:33:00',...</td>\n",
       "      <td>['2025-04-03 05:14:00', '2025-04-03 05:34:00',...</td>\n",
       "      <td>1</td>\n",
       "    </tr>\n",
       "    <tr>\n",
       "      <th>65322</th>\n",
       "      <td>Überseering (West)</td>\n",
       "      <td>Master:70017</td>\n",
       "      <td>UK Eppendorf</td>\n",
       "      <td>HHA-B:20_HHA-B#S Rübenkamp#Bf. Altona</td>\n",
       "      <td>20</td>\n",
       "      <td>Niederflur Metrobus</td>\n",
       "      <td>['2025-04-03 05:19:00']</td>\n",
       "      <td>['2025-04-03 05:20:00']</td>\n",
       "      <td>1</td>\n",
       "    </tr>\n",
       "  </tbody>\n",
       "</table>\n",
       "<p>65323 rows × 9 columns</p>\n",
       "</div>"
      ],
      "text/plain": [
       "             from_station from_station_id                       to_station  \\\n",
       "0             A Burgwedel    Master:86007                        Basselweg   \n",
       "1             A Burgwedel    Master:86007            Bezirksamt Eimsbüttel   \n",
       "2             A Burgwedel    Master:86007                      Bf. Dammtor   \n",
       "3             A Burgwedel    Master:86007                      Bindfeldweg   \n",
       "4             A Burgwedel    Master:86007           Freizeitbad Bondenwald   \n",
       "...                   ...             ...                              ...   \n",
       "65318  Überseering (West)    Master:70017  Ohlsdorfer Straße (Planetarium)   \n",
       "65319  Überseering (West)    Master:70017    S Poppenbüttel (Wentzelplatz)   \n",
       "65320  Überseering (West)    Master:70017                  Schulbergredder   \n",
       "65321  Überseering (West)    Master:70017                         Schulweg   \n",
       "65322  Überseering (West)    Master:70017                     UK Eppendorf   \n",
       "\n",
       "                                             line_unique line_name  \\\n",
       "0                HHA-B:603_HHA-B#Grothwisch#Rathausmarkt       603   \n",
       "1             HHA-B:5_HHA-B#A Burgwedel#Hauptbahnhof/ZOB         5   \n",
       "2             HHA-B:5_HHA-B#A Burgwedel#Hauptbahnhof/ZOB         5   \n",
       "3             HHA-B:5_HHA-B#A Burgwedel#Hauptbahnhof/ZOB         5   \n",
       "4             HHA-B:5_HHA-B#A Burgwedel#Hauptbahnhof/ZOB         5   \n",
       "...                                                  ...       ...   \n",
       "65318  HHA-B:20_HHA-B#S Rübenkamp#Winterhuder Marktplatz        20   \n",
       "65319  HHA-B:179_HHA-B#S Poppenbüttel (Wentzelplatz)#...       179   \n",
       "65320  HHA-B:179_HHA-B#S Poppenbüttel (Wentzelplatz)#...       179   \n",
       "65321              HHA-B:20_HHA-B#Bf. Altona#S Rübenkamp        20   \n",
       "65322              HHA-B:20_HHA-B#S Rübenkamp#Bf. Altona        20   \n",
       "\n",
       "                 line_info                                    departure_times  \\\n",
       "0      Niederflur-Nachtbus                            ['2025-04-03 01:02:00']   \n",
       "1      Niederflur Metrobus  ['2025-04-03 05:04:00', '2025-04-03 19:34:00',...   \n",
       "2      Niederflur Metrobus  ['2025-04-03 06:49:00', '2025-04-03 06:59:00',...   \n",
       "3      Niederflur Metrobus  ['2025-04-03 05:53:00', '2025-04-03 06:03:00',...   \n",
       "4      Niederflur Metrobus  ['2025-04-03 07:05:00', '2025-04-03 07:15:00',...   \n",
       "...                    ...                                                ...   \n",
       "65318  Niederflur Metrobus     ['2025-04-03 23:19:00', '2025-04-03 23:39:00']   \n",
       "65319  Niederflur Stadtbus  ['2025-04-03 07:50:00', '2025-04-03 08:10:00',...   \n",
       "65320  Niederflur Stadtbus                            ['2025-04-03 05:27:00']   \n",
       "65321  Niederflur Metrobus  ['2025-04-03 05:13:00', '2025-04-03 05:33:00',...   \n",
       "65322  Niederflur Metrobus                            ['2025-04-03 05:19:00']   \n",
       "\n",
       "                                           arrival_times  duration  \n",
       "0                                ['2025-04-03 01:03:00']         1  \n",
       "1      ['2025-04-03 05:05:00', '2025-04-03 19:35:00',...         1  \n",
       "2      ['2025-04-03 06:50:00', '2025-04-03 07:00:00',...         1  \n",
       "3      ['2025-04-03 05:54:00', '2025-04-03 06:04:00',...         1  \n",
       "4      ['2025-04-03 07:06:00', '2025-04-03 07:16:00',...         1  \n",
       "...                                                  ...       ...  \n",
       "65318     ['2025-04-03 23:21:00', '2025-04-03 23:41:00']         2  \n",
       "65319  ['2025-04-03 07:51:00', '2025-04-03 08:11:00',...         2  \n",
       "65320                            ['2025-04-03 05:29:00']         2  \n",
       "65321  ['2025-04-03 05:14:00', '2025-04-03 05:34:00',...         1  \n",
       "65322                            ['2025-04-03 05:20:00']         1  \n",
       "\n",
       "[65323 rows x 9 columns]"
      ]
     },
     "execution_count": 4,
     "metadata": {},
     "output_type": "execute_result"
    }
   ],
   "source": [
    "departures_preproc"
   ]
  },
  {
   "cell_type": "code",
   "execution_count": 5,
   "metadata": {},
   "outputs": [],
   "source": [
    "processed_data = departures_preproc.to_dict('records')"
   ]
  },
  {
   "cell_type": "code",
   "execution_count": 26,
   "metadata": {},
   "outputs": [
    {
     "name": "stdout",
     "output_type": "stream",
     "text": [
      "Adding 636528 relationships to Neo4j...\n"
     ]
    },
    {
     "name": "stderr",
     "output_type": "stream",
     "text": [
      "Adding relationships to Neo4j:   1%|          | 5/637 [00:08<17:01,  1.62s/it]"
     ]
    },
    {
     "name": "stdout",
     "output_type": "stream",
     "text": [
      "Skipping departure from 'Borgfelder Straße' to 'U Hammer Kirche (Hammer Landstraße)' - Destination station does not exist\n",
      "Skipping departure from 'U Burgstraße' to 'U Hammer Kirche (Hammer Landstraße)' - Destination station does not exist\n",
      "Skipping departure from 'U Hammer Kirche' to 'U Hammer Kirche (Hammer Landstraße)' - Destination station does not exist\n",
      "Skipping departure from 'U Hammer Kirche' to 'U Hammer Kirche (Hammer Landstraße)' - Destination station does not exist\n",
      "Skipping departure from 'U Hammer Kirche' to 'U Hammer Kirche (Hammer Landstraße)' - Destination station does not exist\n",
      "Skipping departure from 'U Hammer Kirche' to 'U Hammer Kirche (Hammer Landstraße)' - Destination station does not exist\n",
      "Skipping departure from 'U Hammer Kirche' to 'U Hammer Kirche (Hammer Landstraße)' - Destination station does not exist\n",
      "Skipping departure from 'U Hammer Kirche' to 'U Hammer Kirche (Hammer Landstraße)' - Destination station does not exist\n",
      "Skipping departure from 'U Hammer Kirche' to 'U Hammer Kirche (Hammer Landstraße)' - Destination station does not exist\n",
      "Skipping departure from 'U Hammer Kirche' to 'U Hammer Kirche (Hammer Landstraße)' - Destination station does not exist\n",
      "Skipping departure from 'U Hammer Kirche' to 'U Hammer Kirche (Hammer Landstraße)' - Destination station does not exist\n",
      "Skipping departure from 'U Hammer Kirche' to 'U Hammer Kirche (Hammer Landstraße)' - Destination station does not exist\n",
      "Skipping departure from 'U Hammer Kirche' to 'U Hammer Kirche (Hammer Landstraße)' - Destination station does not exist\n"
     ]
    },
    {
     "name": "stderr",
     "output_type": "stream",
     "text": [
      "Adding relationships to Neo4j:   1%|          | 6/637 [00:10<16:36,  1.58s/it]"
     ]
    },
    {
     "name": "stdout",
     "output_type": "stream",
     "text": [
      "Skipping departure from 'U Hammer Kirche' to 'U Hammer Kirche (Hammer Landstraße)' - Destination station does not exist\n",
      "Skipping departure from 'U Hammer Kirche' to 'U Hammer Kirche (Hammer Landstraße)' - Destination station does not exist\n",
      "Skipping departure from 'U Hammer Kirche' to 'U Hammer Kirche (Hammer Landstraße)' - Destination station does not exist\n",
      "Skipping departure from 'U Hammer Kirche' to 'U Hammer Kirche (Hammer Landstraße)' - Destination station does not exist\n",
      "Skipping departure from 'U Hammer Kirche' to 'U Hammer Kirche (Hammer Landstraße)' - Destination station does not exist\n",
      "Skipping departure from 'U Hammer Kirche' to 'U Hammer Kirche (Hammer Landstraße)' - Destination station does not exist\n",
      "Skipping departure from 'U Hammer Kirche' to 'U Hammer Kirche (Hammer Landstraße)' - Destination station does not exist\n",
      "Skipping departure from 'U Hammer Kirche' to 'U Hammer Kirche (Hammer Landstraße)' - Destination station does not exist\n",
      "Skipping departure from 'U Hammer Kirche' to 'U Hammer Kirche (Hammer Landstraße)' - Destination station does not exist\n",
      "Skipping departure from 'U Hammer Kirche' to 'U Hammer Kirche (Hammer Landstraße)' - Destination station does not exist\n",
      "Skipping departure from 'U Hammer Kirche' to 'U Hammer Kirche (Hammer Landstraße)' - Destination station does not exist\n"
     ]
    },
    {
     "name": "stderr",
     "output_type": "stream",
     "text": [
      "Adding relationships to Neo4j:   1%|          | 7/637 [00:11<16:50,  1.60s/it]"
     ]
    },
    {
     "name": "stdout",
     "output_type": "stream",
     "text": [
      "Skipping departure from 'U Hammer Kirche' to 'U Hammer Kirche (Hammer Landstraße)' - Destination station does not exist\n",
      "Skipping departure from 'U Hammer Kirche' to 'U Hammer Kirche (Hammer Landstraße)' - Destination station does not exist\n",
      "Skipping departure from 'U Hammer Kirche' to 'U Hammer Kirche (Hammer Landstraße)' - Destination station does not exist\n",
      "Skipping departure from 'U Hammer Kirche' to 'U Hammer Kirche (Hammer Landstraße)' - Destination station does not exist\n",
      "Skipping departure from 'U Hammer Kirche' to 'U Hammer Kirche (Hammer Landstraße)' - Destination station does not exist\n",
      "Skipping departure from 'U Hammer Kirche' to 'U Hammer Kirche (Hammer Landstraße)' - Destination station does not exist\n",
      "Skipping departure from 'U Hammer Kirche' to 'U Hammer Kirche (Hammer Landstraße)' - Destination station does not exist\n",
      "Skipping departure from 'U Hammer Kirche' to 'U Hammer Kirche (Hammer Landstraße)' - Destination station does not exist\n",
      "Skipping departure from 'U Hammer Kirche' to 'U Hammer Kirche (Hammer Landstraße)' - Destination station does not exist\n",
      "Skipping departure from 'U Hammer Kirche' to 'U Hammer Kirche (Hammer Landstraße)' - Destination station does not exist\n",
      "Skipping departure from 'U Hammer Kirche' to 'U Hammer Kirche (Hammer Landstraße)' - Destination station does not exist\n",
      "Skipping departure from 'U Hammer Kirche' to 'U Hammer Kirche (Hammer Landstraße)' - Destination station does not exist\n",
      "Skipping departure from 'U Hammer Kirche' to 'U Hammer Kirche (Hammer Landstraße)' - Destination station does not exist\n"
     ]
    },
    {
     "name": "stderr",
     "output_type": "stream",
     "text": [
      "Adding relationships to Neo4j:   1%|▏         | 8/637 [00:13<16:29,  1.57s/it]"
     ]
    },
    {
     "name": "stdout",
     "output_type": "stream",
     "text": [
      "Skipping departure from 'U Hammer Kirche' to 'U Hammer Kirche (Hammer Landstraße)' - Destination station does not exist\n",
      "Skipping departure from 'U Hammer Kirche' to 'U Hammer Kirche (Hammer Landstraße)' - Destination station does not exist\n",
      "Skipping departure from 'U Hammer Kirche' to 'U Hammer Kirche (Hammer Landstraße)' - Destination station does not exist\n",
      "Skipping departure from 'U Hammer Kirche' to 'U Hammer Kirche (Hammer Landstraße)' - Destination station does not exist\n",
      "Skipping departure from 'U Hammer Kirche' to 'U Hammer Kirche (Hammer Landstraße)' - Destination station does not exist\n",
      "Skipping departure from 'U Hammer Kirche' to 'U Hammer Kirche (Hammer Landstraße)' - Destination station does not exist\n",
      "Skipping departure from 'U Hammer Kirche' to 'U Hammer Kirche (Hammer Landstraße)' - Destination station does not exist\n",
      "Skipping departure from 'U Hammer Kirche' to 'U Hammer Kirche (Hammer Landstraße)' - Destination station does not exist\n",
      "Skipping departure from 'U Hammer Kirche' to 'U Hammer Kirche (Hammer Landstraße)' - Destination station does not exist\n",
      "Skipping departure from 'Hübbesweg' to 'U Hammer Kirche (Hammer Landstraße)' - Destination station does not exist\n"
     ]
    },
    {
     "name": "stderr",
     "output_type": "stream",
     "text": [
      "Adding relationships to Neo4j:   5%|▍         | 29/637 [00:46<15:40,  1.55s/it]"
     ]
    },
    {
     "name": "stdout",
     "output_type": "stream",
     "text": [
      "Skipping departure from 'Kaltehofe-Hinterdeich' to 'U Hammer Kirche (Hammer Landstraße)' - Destination station does not exist\n",
      "Skipping departure from 'Kaltehofe-Hinterdeich' to 'U Hammer Kirche (Hammer Landstraße)' - Destination station does not exist\n"
     ]
    },
    {
     "name": "stderr",
     "output_type": "stream",
     "text": [
      "Adding relationships to Neo4j:   5%|▌         | 34/637 [00:53<16:40,  1.66s/it]"
     ]
    },
    {
     "name": "stdout",
     "output_type": "stream",
     "text": [
      "Skipping departure from 'U Burgstraße' to 'U Hammer Kirche (Hammer Landstraße)' - Destination station does not exist\n",
      "Skipping departure from 'U Hammer Kirche' to 'U Hammer Kirche (Hammer Landstraße)' - Destination station does not exist\n",
      "Skipping departure from 'U Hammer Kirche' to 'U Hammer Kirche (Hammer Landstraße)' - Destination station does not exist\n",
      "Skipping departure from 'U Hammer Kirche' to 'U Hammer Kirche (Hammer Landstraße)' - Destination station does not exist\n",
      "Skipping departure from 'U Hammer Kirche' to 'U Hammer Kirche (Hammer Landstraße)' - Destination station does not exist\n",
      "Skipping departure from 'U Hammer Kirche' to 'U Hammer Kirche (Hammer Landstraße)' - Destination station does not exist\n"
     ]
    },
    {
     "name": "stderr",
     "output_type": "stream",
     "text": [
      "Adding relationships to Neo4j:   5%|▌         | 35/637 [00:55<16:19,  1.63s/it]"
     ]
    },
    {
     "name": "stdout",
     "output_type": "stream",
     "text": [
      "Skipping departure from 'U Hammer Kirche' to 'U Hammer Kirche (Hammer Landstraße)' - Destination station does not exist\n",
      "Skipping departure from 'U Hammer Kirche' to 'U Hammer Kirche (Hammer Landstraße)' - Destination station does not exist\n",
      "Skipping departure from 'U Hammer Kirche' to 'U Hammer Kirche (Hammer Landstraße)' - Destination station does not exist\n",
      "Skipping departure from 'U Hammer Kirche' to 'U Hammer Kirche (Hammer Landstraße)' - Destination station does not exist\n",
      "Skipping departure from 'U Hammer Kirche' to 'U Hammer Kirche (Hammer Landstraße)' - Destination station does not exist\n",
      "Skipping departure from 'U Hammer Kirche' to 'U Hammer Kirche (Hammer Landstraße)' - Destination station does not exist\n",
      "Skipping departure from 'U Hammer Kirche' to 'U Hammer Kirche (Hammer Landstraße)' - Destination station does not exist\n"
     ]
    },
    {
     "name": "stderr",
     "output_type": "stream",
     "text": [
      "Adding relationships to Neo4j:   6%|▌         | 36/637 [00:56<15:45,  1.57s/it]"
     ]
    },
    {
     "name": "stdout",
     "output_type": "stream",
     "text": [
      "Skipping departure from 'U Hammer Kirche' to 'U Hammer Kirche (Hammer Landstraße)' - Destination station does not exist\n",
      "Skipping departure from 'U Hammer Kirche' to 'U Hammer Kirche (Hammer Landstraße)' - Destination station does not exist\n",
      "Skipping departure from 'U Hammer Kirche' to 'U Hammer Kirche (Hammer Landstraße)' - Destination station does not exist\n",
      "Skipping departure from 'U Hammer Kirche' to 'U Hammer Kirche (Hammer Landstraße)' - Destination station does not exist\n",
      "Skipping departure from 'U Hammer Kirche' to 'U Hammer Kirche (Hammer Landstraße)' - Destination station does not exist\n",
      "Skipping departure from 'U Hammer Kirche' to 'U Hammer Kirche (Hammer Landstraße)' - Destination station does not exist\n"
     ]
    },
    {
     "name": "stderr",
     "output_type": "stream",
     "text": [
      "Adding relationships to Neo4j:   6%|▌         | 37/637 [00:58<15:20,  1.53s/it]"
     ]
    },
    {
     "name": "stdout",
     "output_type": "stream",
     "text": [
      "Skipping departure from 'U Hammer Kirche' to 'U Hammer Kirche (Hammer Landstraße)' - Destination station does not exist\n",
      "Skipping departure from 'U Hammer Kirche' to 'U Hammer Kirche (Hammer Landstraße)' - Destination station does not exist\n",
      "Skipping departure from 'U Hammer Kirche' to 'U Hammer Kirche (Hammer Landstraße)' - Destination station does not exist\n",
      "Skipping departure from 'U Hammer Kirche' to 'U Hammer Kirche (Hammer Landstraße)' - Destination station does not exist\n",
      "Skipping departure from 'U Hammer Kirche' to 'U Hammer Kirche (Hammer Landstraße)' - Destination station does not exist\n",
      "Skipping departure from 'U Hammer Kirche' to 'U Hammer Kirche (Hammer Landstraße)' - Destination station does not exist\n"
     ]
    },
    {
     "name": "stderr",
     "output_type": "stream",
     "text": [
      "Adding relationships to Neo4j:   6%|▌         | 38/637 [00:59<14:56,  1.50s/it]"
     ]
    },
    {
     "name": "stdout",
     "output_type": "stream",
     "text": [
      "Skipping departure from 'U Hammer Kirche' to 'U Hammer Kirche (Hammer Landstraße)' - Destination station does not exist\n",
      "Skipping departure from 'U Hammer Kirche' to 'U Hammer Kirche (Hammer Landstraße)' - Destination station does not exist\n",
      "Skipping departure from 'U Hammer Kirche' to 'U Hammer Kirche (Hammer Landstraße)' - Destination station does not exist\n",
      "Skipping departure from 'U Hammer Kirche' to 'U Hammer Kirche (Hammer Landstraße)' - Destination station does not exist\n",
      "Skipping departure from 'U Hammer Kirche' to 'U Hammer Kirche (Hammer Landstraße)' - Destination station does not exist\n",
      "Skipping departure from 'U Hammer Kirche' to 'U Hammer Kirche (Hammer Landstraße)' - Destination station does not exist\n",
      "Skipping departure from 'U Hammer Kirche' to 'U Hammer Kirche (Hammer Landstraße)' - Destination station does not exist\n",
      "Skipping departure from 'U Hammer Kirche' to 'U Hammer Kirche (Hammer Landstraße)' - Destination station does not exist\n",
      "Skipping departure from 'U Hammer Kirche' to 'U Hammer Kirche (Hammer Landstraße)' - Destination station does not exist\n"
     ]
    },
    {
     "name": "stderr",
     "output_type": "stream",
     "text": [
      "Adding relationships to Neo4j:   6%|▌         | 39/637 [01:01<14:47,  1.48s/it]"
     ]
    },
    {
     "name": "stdout",
     "output_type": "stream",
     "text": [
      "Skipping departure from 'U Hammer Kirche' to 'U Hammer Kirche (Hammer Landstraße)' - Destination station does not exist\n",
      "Skipping departure from 'U Hammer Kirche' to 'U Hammer Kirche (Hammer Landstraße)' - Destination station does not exist\n",
      "Skipping departure from 'U Hammer Kirche' to 'U Hammer Kirche (Hammer Landstraße)' - Destination station does not exist\n",
      "Skipping departure from 'U Hammer Kirche' to 'U Hammer Kirche (Hammer Landstraße)' - Destination station does not exist\n",
      "Skipping departure from 'U Hammer Kirche' to 'U Hammer Kirche (Hammer Landstraße)' - Destination station does not exist\n",
      "Skipping departure from 'U Hammer Kirche' to 'U Hammer Kirche (Hammer Landstraße)' - Destination station does not exist\n",
      "Skipping departure from 'U Hammer Kirche' to 'U Hammer Kirche (Hammer Landstraße)' - Destination station does not exist\n",
      "Skipping departure from 'U Hammer Kirche' to 'U Hammer Kirche (Hammer Landstraße)' - Destination station does not exist\n"
     ]
    },
    {
     "name": "stderr",
     "output_type": "stream",
     "text": [
      "Adding relationships to Neo4j:   6%|▋         | 40/637 [01:02<14:36,  1.47s/it]"
     ]
    },
    {
     "name": "stdout",
     "output_type": "stream",
     "text": [
      "Skipping departure from 'U Hammer Kirche' to 'U Hammer Kirche (Hammer Landstraße)' - Destination station does not exist\n",
      "Skipping departure from 'U Hammer Kirche' to 'U Hammer Kirche (Hammer Landstraße)' - Destination station does not exist\n",
      "Skipping departure from 'U Hammer Kirche' to 'U Hammer Kirche (Hammer Landstraße)' - Destination station does not exist\n"
     ]
    },
    {
     "name": "stderr",
     "output_type": "stream",
     "text": [
      "Adding relationships to Neo4j:   9%|▉         | 56/637 [01:27<14:32,  1.50s/it]"
     ]
    },
    {
     "name": "stdout",
     "output_type": "stream",
     "text": [
      "Skipping departure from 'Hamburg Dammtor' to 'Horst (Holst)' - Destination station does not exist\n"
     ]
    },
    {
     "name": "stderr",
     "output_type": "stream",
     "text": [
      "Adding relationships to Neo4j:  14%|█▍        | 90/637 [02:19<13:32,  1.49s/it]"
     ]
    },
    {
     "name": "stdout",
     "output_type": "stream",
     "text": [
      "Skipping departure from 'Hamburg Dammtor' to 'Horst (Holst)' - Destination station does not exist\n"
     ]
    },
    {
     "name": "stderr",
     "output_type": "stream",
     "text": [
      "Adding relationships to Neo4j:  25%|██▍       | 159/637 [04:03<11:59,  1.51s/it]"
     ]
    },
    {
     "name": "stdout",
     "output_type": "stream",
     "text": [
      "Skipping departure from 'Knoopstraße/Bremer Straße' to 'Neuhof (Fähre)' - Destination station does not exist\n"
     ]
    },
    {
     "name": "stderr",
     "output_type": "stream",
     "text": [
      "Adding relationships to Neo4j:  32%|███▏      | 201/637 [05:08<11:55,  1.64s/it]"
     ]
    },
    {
     "name": "stdout",
     "output_type": "stream",
     "text": [
      "Skipping departure from 'Bf. Harburg (Großmoordamm)' to 'Neuhof (Fähre)' - Destination station does not exist\n",
      "Skipping departure from 'Bf. Harburg (Großmoordamm)' to 'Neuhof (Fähre)' - Destination station does not exist\n",
      "Skipping departure from 'Bf. Harburg (Großmoordamm)' to 'Neuhof (Fähre)' - Destination station does not exist\n",
      "Skipping departure from 'Bf. Harburg (Großmoordamm)' to 'Neuhof (Fähre)' - Destination station does not exist\n"
     ]
    },
    {
     "name": "stderr",
     "output_type": "stream",
     "text": [
      "Adding relationships to Neo4j:  32%|███▏      | 202/637 [05:09<11:34,  1.60s/it]"
     ]
    },
    {
     "name": "stdout",
     "output_type": "stream",
     "text": [
      "Skipping departure from 'Bf. Harburg (Großmoordamm)' to 'Neuhof (Fähre)' - Destination station does not exist\n",
      "Skipping departure from 'Bf. Harburg (Großmoordamm)' to 'Neuhof (Fähre)' - Destination station does not exist\n",
      "Skipping departure from 'Bf. Harburg (Großmoordamm)' to 'Neuhof (Fähre)' - Destination station does not exist\n",
      "Skipping departure from 'Bf. Harburg (Großmoordamm)' to 'Neuhof (Fähre)' - Destination station does not exist\n"
     ]
    },
    {
     "name": "stderr",
     "output_type": "stream",
     "text": [
      "Adding relationships to Neo4j:  33%|███▎      | 208/637 [05:18<10:33,  1.48s/it]"
     ]
    },
    {
     "name": "stdout",
     "output_type": "stream",
     "text": [
      "Skipping departure from 'Inselpark' to 'Neuhof (Fähre)' - Destination station does not exist\n",
      "Skipping departure from 'Inselpark' to 'Neuhof (Fähre)' - Destination station does not exist\n",
      "Skipping departure from 'Inselpark' to 'Neuhof (Fähre)' - Destination station does not exist\n",
      "Skipping departure from 'Inselpark' to 'Neuhof (Fähre)' - Destination station does not exist\n",
      "Skipping departure from 'Inselpark' to 'Neuhof (Fähre)' - Destination station does not exist\n"
     ]
    },
    {
     "name": "stderr",
     "output_type": "stream",
     "text": [
      "Adding relationships to Neo4j:  34%|███▍      | 218/637 [05:33<10:35,  1.52s/it]"
     ]
    },
    {
     "name": "stdout",
     "output_type": "stream",
     "text": [
      "Skipping departure from 'Nippoldstraße (Ost)' to 'Neuhof (Fähre)' - Destination station does not exist\n"
     ]
    },
    {
     "name": "stderr",
     "output_type": "stream",
     "text": [
      "Adding relationships to Neo4j:  34%|███▍      | 219/637 [05:35<10:19,  1.48s/it]"
     ]
    },
    {
     "name": "stdout",
     "output_type": "stream",
     "text": [
      "Skipping departure from 'Röörfeld' to 'Neuhof (Fähre)' - Destination station does not exist\n",
      "Skipping departure from 'Röörfeld' to 'Neuhof (Fähre)' - Destination station does not exist\n",
      "Skipping departure from 'Röörfeld' to 'Neuhof (Fähre)' - Destination station does not exist\n",
      "Skipping departure from 'Röörfeld' to 'Neuhof (Fähre)' - Destination station does not exist\n",
      "Skipping departure from 'Röörfeld' to 'Neuhof (Fähre)' - Destination station does not exist\n",
      "Skipping departure from 'Röörfeld' to 'Neuhof (Fähre)' - Destination station does not exist\n",
      "Skipping departure from 'Nippoldstraße (West)' to 'Neuhof (Fähre)' - Destination station does not exist\n",
      "Skipping departure from 'Roßweg/HDW' to 'Neuhof (Fähre)' - Destination station does not exist\n",
      "Skipping departure from 'Roßweg/HDW' to 'Neuhof (Fähre)' - Destination station does not exist\n",
      "Skipping departure from 'Nippoldstraße (West)' to 'Neuhof (Fähre)' - Destination station does not exist\n",
      "Skipping departure from 'Roßweg/HDW' to 'Neuhof (Fähre)' - Destination station does not exist\n",
      "Skipping departure from 'Roßweg/HDW' to 'Neuhof (Fähre)' - Destination station does not exist\n",
      "Skipping departure from 'Roßweg/HDW' to 'Neuhof (Fähre)' - Destination station does not exist\n",
      "Skipping departure from 'Nippoldstraße (West)' to 'Neuhof (Fähre)' - Destination station does not exist\n",
      "Skipping departure from 'Roßweg/HDW' to 'Neuhof (Fähre)' - Destination station does not exist\n",
      "Skipping departure from 'Nippoldstraße (West)' to 'Neuhof (Fähre)' - Destination station does not exist\n",
      "Skipping departure from 'Roßweg/HDW' to 'Neuhof (Fähre)' - Destination station does not exist\n",
      "Skipping departure from 'Nippoldstraße (West)' to 'Neuhof (Fähre)' - Destination station does not exist\n",
      "Skipping departure from 'Roßweg/HDW' to 'Neuhof (Fähre)' - Destination station does not exist\n",
      "Skipping departure from 'Nippoldstraße (West)' to 'Neuhof (Fähre)' - Destination station does not exist\n",
      "Skipping departure from 'Roßweg/HDW' to 'Neuhof (Fähre)' - Destination station does not exist\n"
     ]
    },
    {
     "name": "stderr",
     "output_type": "stream",
     "text": [
      "Adding relationships to Neo4j:  35%|███▍      | 220/637 [05:36<10:08,  1.46s/it]"
     ]
    },
    {
     "name": "stdout",
     "output_type": "stream",
     "text": [
      "Skipping departure from 'S Wilhelmsburg' to 'Neuhof (Fähre)' - Destination station does not exist\n",
      "Skipping departure from 'S Wilhelmsburg' to 'Neuhof (Fähre)' - Destination station does not exist\n",
      "Skipping departure from 'Schwentnerring' to 'Neuhof (Fähre)' - Destination station does not exist\n",
      "Skipping departure from 'S Wilhelmsburg' to 'Neuhof (Fähre)' - Destination station does not exist\n",
      "Skipping departure from 'Schwentnerring' to 'Neuhof (Fähre)' - Destination station does not exist\n",
      "Skipping departure from 'S Wilhelmsburg' to 'Neuhof (Fähre)' - Destination station does not exist\n",
      "Skipping departure from 'S Wilhelmsburg' to 'Neuhof (Fähre)' - Destination station does not exist\n",
      "Skipping departure from 'S Wilhelmsburg' to 'Neuhof (Fähre)' - Destination station does not exist\n",
      "Skipping departure from 'S Wilhelmsburg' to 'Neuhof (Fähre)' - Destination station does not exist\n"
     ]
    },
    {
     "name": "stderr",
     "output_type": "stream",
     "text": [
      "Adding relationships to Neo4j:  35%|███▍      | 221/637 [05:38<10:01,  1.45s/it]"
     ]
    },
    {
     "name": "stdout",
     "output_type": "stream",
     "text": [
      "Skipping departure from 'Schwentnerring' to 'Neuhof (Fähre)' - Destination station does not exist\n"
     ]
    },
    {
     "name": "stderr",
     "output_type": "stream",
     "text": [
      "Adding relationships to Neo4j:  35%|███▌      | 226/637 [05:45<10:26,  1.52s/it]"
     ]
    },
    {
     "name": "stdout",
     "output_type": "stream",
     "text": [
      "Skipping departure from 'S Wilhelmsburg' to 'Neuhof (Fähre)' - Destination station does not exist\n",
      "Skipping departure from 'S Wilhelmsburg' to 'Neuhof (Fähre)' - Destination station does not exist\n",
      "Skipping departure from 'S Wilhelmsburg' to 'Neuhof (Fähre)' - Destination station does not exist\n",
      "Skipping departure from 'S Wilhelmsburg' to 'Neuhof (Fähre)' - Destination station does not exist\n",
      "Skipping departure from 'S Wilhelmsburg' to 'Neuhof (Fähre)' - Destination station does not exist\n",
      "Skipping departure from 'S Wilhelmsburg' to 'Neuhof (Fähre)' - Destination station does not exist\n"
     ]
    },
    {
     "name": "stderr",
     "output_type": "stream",
     "text": [
      "Adding relationships to Neo4j:  36%|███▌      | 227/637 [05:47<10:17,  1.51s/it]"
     ]
    },
    {
     "name": "stdout",
     "output_type": "stream",
     "text": [
      "Skipping departure from 'S Wilhelmsburg' to 'Neuhof (Fähre)' - Destination station does not exist\n"
     ]
    },
    {
     "name": "stderr",
     "output_type": "stream",
     "text": [
      "Adding relationships to Neo4j:  36%|███▌      | 229/637 [05:50<10:03,  1.48s/it]"
     ]
    },
    {
     "name": "stdout",
     "output_type": "stream",
     "text": [
      "Skipping departure from 'Weidendamm' to 'Neuhof (Fähre)' - Destination station does not exist\n",
      "Skipping departure from 'Weidendamm' to 'Neuhof (Fähre)' - Destination station does not exist\n",
      "Skipping departure from 'Weidendamm' to 'Neuhof (Fähre)' - Destination station does not exist\n",
      "Skipping departure from 'Friedhof Finkenriek (Eingang)' to 'Neuhof (Fähre)' - Destination station does not exist\n",
      "Skipping departure from 'Friedhof Finkenriek (Eingang)' to 'Neuhof (Fähre)' - Destination station does not exist\n",
      "Skipping departure from 'Weidendamm' to 'Neuhof (Fähre)' - Destination station does not exist\n"
     ]
    },
    {
     "name": "stderr",
     "output_type": "stream",
     "text": [
      "Adding relationships to Neo4j:  42%|████▏     | 267/637 [06:48<09:06,  1.48s/it]"
     ]
    },
    {
     "name": "stdout",
     "output_type": "stream",
     "text": [
      "Skipping departure from 'U Rauhes Haus' to 'U Hammer Kirche (Hammer Landstraße)' - Destination station does not exist\n"
     ]
    },
    {
     "name": "stderr",
     "output_type": "stream",
     "text": [
      "Adding relationships to Neo4j:  43%|████▎     | 276/637 [07:01<08:53,  1.48s/it]"
     ]
    },
    {
     "name": "stdout",
     "output_type": "stream",
     "text": [
      "Skipping departure from 'U Rauhes Haus' to 'U Hammer Kirche (Hammer Landstraße)' - Destination station does not exist\n"
     ]
    },
    {
     "name": "stderr",
     "output_type": "stream",
     "text": [
      "Adding relationships to Neo4j:  68%|██████▊   | 430/637 [10:57<05:24,  1.57s/it]"
     ]
    },
    {
     "name": "stdout",
     "output_type": "stream",
     "text": [
      "Skipping departure from 'Hamburg-Altona' to 'Horst (Holst)' - Destination station does not exist\n",
      "Skipping departure from 'Hamburg-Altona' to 'Horst (Holst)' - Destination station does not exist\n"
     ]
    },
    {
     "name": "stderr",
     "output_type": "stream",
     "text": [
      "Adding relationships to Neo4j:  68%|██████▊   | 431/637 [10:58<05:15,  1.53s/it]"
     ]
    },
    {
     "name": "stdout",
     "output_type": "stream",
     "text": [
      "Skipping departure from 'Hamburg-Altona' to 'Horst (Holst)' - Destination station does not exist\n",
      "Skipping departure from 'Hamburg-Altona' to 'Horst (Holst)' - Destination station does not exist\n",
      "Skipping departure from 'Hamburg-Altona' to 'Horst (Holst)' - Destination station does not exist\n",
      "Skipping departure from 'Hamburg-Altona' to 'Horst (Holst)' - Destination station does not exist\n",
      "Skipping departure from 'Hamburg-Altona' to 'Horst (Holst)' - Destination station does not exist\n"
     ]
    },
    {
     "name": "stderr",
     "output_type": "stream",
     "text": [
      "Adding relationships to Neo4j:  68%|██████▊   | 432/637 [11:00<05:11,  1.52s/it]"
     ]
    },
    {
     "name": "stdout",
     "output_type": "stream",
     "text": [
      "Skipping departure from 'Hamburg-Altona' to 'Horst (Holst)' - Destination station does not exist\n",
      "Skipping departure from 'Hamburg-Altona' to 'Horst (Holst)' - Destination station does not exist\n",
      "Skipping departure from 'Hamburg-Altona' to 'Horst (Holst)' - Destination station does not exist\n",
      "Skipping departure from 'Hamburg-Altona' to 'Horst (Holst)' - Destination station does not exist\n",
      "Skipping departure from 'Hamburg-Altona' to 'Horst (Holst)' - Destination station does not exist\n"
     ]
    },
    {
     "name": "stderr",
     "output_type": "stream",
     "text": [
      "Adding relationships to Neo4j:  68%|██████▊   | 433/637 [11:01<05:05,  1.50s/it]"
     ]
    },
    {
     "name": "stdout",
     "output_type": "stream",
     "text": [
      "Skipping departure from 'Hamburg-Altona' to 'Horst (Holst)' - Destination station does not exist\n",
      "Skipping departure from 'Hamburg-Altona' to 'Horst (Holst)' - Destination station does not exist\n",
      "Skipping departure from 'Hamburg-Altona' to 'Horst (Holst)' - Destination station does not exist\n",
      "Skipping departure from 'Hamburg-Altona' to 'Horst (Holst)' - Destination station does not exist\n"
     ]
    },
    {
     "name": "stderr",
     "output_type": "stream",
     "text": [
      "Adding relationships to Neo4j:  72%|███████▏  | 461/637 [11:44<04:31,  1.54s/it]"
     ]
    },
    {
     "name": "stdout",
     "output_type": "stream",
     "text": [
      "Skipping departure from 'Hamburg-Altona' to 'Horst (Holst)' - Destination station does not exist\n"
     ]
    },
    {
     "name": "stderr",
     "output_type": "stream",
     "text": [
      "Adding relationships to Neo4j:  73%|███████▎  | 462/637 [11:45<04:24,  1.51s/it]"
     ]
    },
    {
     "name": "stdout",
     "output_type": "stream",
     "text": [
      "Skipping departure from 'Hamburg-Altona' to 'Horst (Holst)' - Destination station does not exist\n",
      "Skipping departure from 'Hamburg-Altona' to 'Horst (Holst)' - Destination station does not exist\n",
      "Skipping departure from 'Hamburg-Altona' to 'Horst (Holst)' - Destination station does not exist\n"
     ]
    },
    {
     "name": "stderr",
     "output_type": "stream",
     "text": [
      "Adding relationships to Neo4j:  73%|███████▎  | 463/637 [11:47<04:20,  1.50s/it]"
     ]
    },
    {
     "name": "stdout",
     "output_type": "stream",
     "text": [
      "Skipping departure from 'Hamburg-Altona' to 'Horst (Holst)' - Destination station does not exist\n",
      "Skipping departure from 'Hamburg-Altona' to 'Horst (Holst)' - Destination station does not exist\n",
      "Skipping departure from 'Hamburg-Altona' to 'Horst (Holst)' - Destination station does not exist\n",
      "Skipping departure from 'Hamburg-Altona' to 'Horst (Holst)' - Destination station does not exist\n"
     ]
    },
    {
     "name": "stderr",
     "output_type": "stream",
     "text": [
      "Adding relationships to Neo4j:  73%|███████▎  | 464/637 [11:48<04:16,  1.48s/it]"
     ]
    },
    {
     "name": "stdout",
     "output_type": "stream",
     "text": [
      "Skipping departure from 'Hamburg-Altona' to 'Horst (Holst)' - Destination station does not exist\n",
      "Skipping departure from 'Hamburg-Altona' to 'Horst (Holst)' - Destination station does not exist\n",
      "Skipping departure from 'Hamburg-Altona' to 'Horst (Holst)' - Destination station does not exist\n"
     ]
    },
    {
     "name": "stderr",
     "output_type": "stream",
     "text": [
      "Adding relationships to Neo4j:  73%|███████▎  | 465/637 [11:50<04:15,  1.48s/it]"
     ]
    },
    {
     "name": "stdout",
     "output_type": "stream",
     "text": [
      "Skipping departure from 'Hamburg-Altona' to 'Horst (Holst)' - Destination station does not exist\n",
      "Skipping departure from 'Hamburg-Altona' to 'Horst (Holst)' - Destination station does not exist\n",
      "Skipping departure from 'Hamburg-Altona' to 'Horst (Holst)' - Destination station does not exist\n"
     ]
    },
    {
     "name": "stderr",
     "output_type": "stream",
     "text": [
      "Adding relationships to Neo4j:  73%|███████▎  | 466/637 [11:52<04:40,  1.64s/it]"
     ]
    },
    {
     "name": "stdout",
     "output_type": "stream",
     "text": [
      "Skipping departure from 'Hamburg-Altona' to 'Horst (Holst)' - Destination station does not exist\n",
      "Skipping departure from 'Hamburg-Altona' to 'Horst (Holst)' - Destination station does not exist\n"
     ]
    },
    {
     "name": "stderr",
     "output_type": "stream",
     "text": [
      "Adding relationships to Neo4j:  97%|█████████▋| 621/637 [15:47<00:23,  1.48s/it]"
     ]
    },
    {
     "name": "stdout",
     "output_type": "stream",
     "text": [
      "Skipping departure from 'Nincoper Straße 160' to 'Rübke, Nincoper Deich (Kehre)' - Destination station does not exist\n",
      "Skipping departure from 'Hamburg Dammtor' to 'Horst (Holst)' - Destination station does not exist\n",
      "Skipping departure from 'Nincoper Straße 160' to 'Rübke, Nincoper Deich (Kehre)' - Destination station does not exist\n",
      "Skipping departure from 'Nincoper Straße 160' to 'Rübke, Nincoper Deich (Kehre)' - Destination station does not exist\n",
      "Skipping departure from 'Nincoper Straße 160' to 'Rübke, Nincoper Deich (Kehre)' - Destination station does not exist\n",
      "Skipping departure from 'Nincoper Straße 160' to 'Rübke, Nincoper Deich (Kehre)' - Destination station does not exist\n",
      "Skipping departure from 'Bf. Harburg (Großmoordamm)' to 'Neuhof (Fähre)' - Destination station does not exist\n"
     ]
    },
    {
     "name": "stderr",
     "output_type": "stream",
     "text": [
      "Adding relationships to Neo4j:  98%|█████████▊| 622/637 [15:49<00:22,  1.47s/it]"
     ]
    },
    {
     "name": "stdout",
     "output_type": "stream",
     "text": [
      "Skipping departure from 'Nincoper Straße 160' to 'Rübke, Nincoper Deich (Kehre)' - Destination station does not exist\n",
      "Skipping departure from 'Bf. Harburg (Großmoordamm)' to 'Neuhof (Fähre)' - Destination station does not exist\n",
      "Skipping departure from 'Nincoper Straße 160' to 'Rübke, Nincoper Deich (Kehre)' - Destination station does not exist\n",
      "Skipping departure from 'Bf. Harburg (Großmoordamm)' to 'Neuhof (Fähre)' - Destination station does not exist\n",
      "Skipping departure from 'Nincoper Straße 160' to 'Rübke, Nincoper Deich (Kehre)' - Destination station does not exist\n",
      "Skipping departure from 'Bf. Harburg (Großmoordamm)' to 'Neuhof (Fähre)' - Destination station does not exist\n",
      "Skipping departure from 'Nincoper Straße 160' to 'Rübke, Nincoper Deich (Kehre)' - Destination station does not exist\n",
      "Skipping departure from 'Nincoper Straße 160' to 'Rübke, Nincoper Deich (Kehre)' - Destination station does not exist\n",
      "Skipping departure from 'Nincoper Straße 160' to 'Rübke, Nincoper Deich (Kehre)' - Destination station does not exist\n"
     ]
    },
    {
     "name": "stderr",
     "output_type": "stream",
     "text": [
      "Adding relationships to Neo4j:  98%|█████████▊| 623/637 [15:50<00:20,  1.47s/it]"
     ]
    },
    {
     "name": "stdout",
     "output_type": "stream",
     "text": [
      "Skipping departure from 'Nincoper Straße 160' to 'Rübke, Nincoper Deich (Kehre)' - Destination station does not exist\n",
      "Skipping departure from 'Nincoper Straße 160' to 'Rübke, Nincoper Deich (Kehre)' - Destination station does not exist\n",
      "Skipping departure from 'Nincoper Straße 160' to 'Rübke, Nincoper Deich (Kehre)' - Destination station does not exist\n",
      "Skipping departure from 'Nincoper Straße 160' to 'Rübke, Nincoper Deich (Kehre)' - Destination station does not exist\n",
      "Skipping departure from 'Nincoper Straße 160' to 'Rübke, Nincoper Deich (Kehre)' - Destination station does not exist\n",
      "Skipping departure from 'Nincoper Straße 160' to 'Rübke, Nincoper Deich (Kehre)' - Destination station does not exist\n"
     ]
    },
    {
     "name": "stderr",
     "output_type": "stream",
     "text": [
      "Adding relationships to Neo4j:  98%|█████████▊| 624/637 [15:52<00:19,  1.46s/it]"
     ]
    },
    {
     "name": "stdout",
     "output_type": "stream",
     "text": [
      "Skipping departure from 'Hamburg-Altona' to 'Horst (Holst)' - Destination station does not exist\n",
      "Skipping departure from 'Hamburg-Altona' to 'Horst (Holst)' - Destination station does not exist\n",
      "Skipping departure from 'Hamburg-Altona' to 'Horst (Holst)' - Destination station does not exist\n"
     ]
    },
    {
     "name": "stderr",
     "output_type": "stream",
     "text": [
      "Adding relationships to Neo4j:  98%|█████████▊| 625/637 [15:54<00:19,  1.64s/it]"
     ]
    },
    {
     "name": "stdout",
     "output_type": "stream",
     "text": [
      "Skipping departure from 'Hamburg-Altona' to 'Horst (Holst)' - Destination station does not exist\n",
      "Skipping departure from 'Hamburg-Altona' to 'Horst (Holst)' - Destination station does not exist\n",
      "Skipping departure from 'Hamburg-Altona' to 'Horst (Holst)' - Destination station does not exist\n"
     ]
    },
    {
     "name": "stderr",
     "output_type": "stream",
     "text": [
      "Adding relationships to Neo4j:  98%|█████████▊| 626/637 [15:55<00:17,  1.60s/it]"
     ]
    },
    {
     "name": "stdout",
     "output_type": "stream",
     "text": [
      "Skipping departure from 'Hamburg-Altona' to 'Horst (Holst)' - Destination station does not exist\n",
      "Skipping departure from 'Hamburg-Altona' to 'Horst (Holst)' - Destination station does not exist\n",
      "Skipping departure from 'Hamburg-Altona' to 'Horst (Holst)' - Destination station does not exist\n",
      "Skipping departure from 'Hamburg-Altona' to 'Horst (Holst)' - Destination station does not exist\n"
     ]
    },
    {
     "name": "stderr",
     "output_type": "stream",
     "text": [
      "Adding relationships to Neo4j:  98%|█████████▊| 627/637 [15:57<00:15,  1.56s/it]"
     ]
    },
    {
     "name": "stdout",
     "output_type": "stream",
     "text": [
      "Skipping departure from 'Hamburg-Altona' to 'Horst (Holst)' - Destination station does not exist\n",
      "Skipping departure from 'Hamburg-Altona' to 'Horst (Holst)' - Destination station does not exist\n",
      "Skipping departure from 'Hamburg-Altona' to 'Horst (Holst)' - Destination station does not exist\n",
      "Skipping departure from 'Hamburg-Altona' to 'Horst (Holst)' - Destination station does not exist\n"
     ]
    },
    {
     "name": "stderr",
     "output_type": "stream",
     "text": [
      "Adding relationships to Neo4j:  99%|█████████▊| 628/637 [15:58<00:13,  1.53s/it]"
     ]
    },
    {
     "name": "stdout",
     "output_type": "stream",
     "text": [
      "Skipping departure from 'Hamburg-Altona' to 'Horst (Holst)' - Destination station does not exist\n",
      "Skipping departure from 'Hamburg-Altona' to 'Horst (Holst)' - Destination station does not exist\n"
     ]
    },
    {
     "name": "stderr",
     "output_type": "stream",
     "text": [
      "Adding relationships to Neo4j: 100%|██████████| 637/637 [16:11<00:00,  1.53s/it]"
     ]
    },
    {
     "name": "stdout",
     "output_type": "stream",
     "text": [
      "WARNING: Skipped 227 departures:\n",
      "  - 227 due to missing destination stations\n",
      "Creating additional indexes for optimized querying...\n",
      "Relationship creation complete!\n"
     ]
    },
    {
     "name": "stderr",
     "output_type": "stream",
     "text": [
      "\n"
     ]
    }
   ],
   "source": [
    "# Execute the query\n",
    "with driver.session() as session:\n",
    "    add_station_relationships(processed_data, session)\n",
    "\n",
    "driver.close()"
   ]
  }
 ],
 "metadata": {
  "kernelspec": {
   "display_name": "py310",
   "language": "python",
   "name": "python3"
  },
  "language_info": {
   "codemirror_mode": {
    "name": "ipython",
    "version": 3
   },
   "file_extension": ".py",
   "mimetype": "text/x-python",
   "name": "python",
   "nbconvert_exporter": "python",
   "pygments_lexer": "ipython3",
   "version": "3.10.16"
  }
 },
 "nbformat": 4,
 "nbformat_minor": 2
}
