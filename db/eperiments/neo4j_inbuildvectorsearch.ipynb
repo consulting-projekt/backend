{
 "cells": [
  {
   "cell_type": "code",
   "execution_count": 7,
   "id": "3051d53a",
   "metadata": {},
   "outputs": [],
   "source": [
    "import sys\n",
    "sys.path.append(\"../\")\n",
    "import neo4j\n",
    "import pandas as pd\n",
    "import pandas as pd\n",
    "from utils_embeddings import load_embedding_model_std\n",
    "from neo4j_graphrag.indexes import create_vector_index"
   ]
  },
  {
   "cell_type": "code",
   "execution_count": 3,
   "id": "af1dc2e5",
   "metadata": {},
   "outputs": [
    {
     "name": "stdout",
     "output_type": "stream",
     "text": [
      "Loading embedding model: paraphrase-multilingual-MiniLM-L12-v2\n"
     ]
    }
   ],
   "source": [
    "model = load_embedding_model_std()"
   ]
  },
  {
   "cell_type": "code",
   "execution_count": 4,
   "id": "8add406e",
   "metadata": {},
   "outputs": [
    {
     "data": {
      "text/plain": [
       "SentenceTransformer(\n",
       "  (0): Transformer({'max_seq_length': 128, 'do_lower_case': False}) with Transformer model: BertModel \n",
       "  (1): Pooling({'word_embedding_dimension': 384, 'pooling_mode_cls_token': False, 'pooling_mode_mean_tokens': True, 'pooling_mode_max_tokens': False, 'pooling_mode_mean_sqrt_len_tokens': False, 'pooling_mode_weightedmean_tokens': False, 'pooling_mode_lasttoken': False, 'include_prompt': True})\n",
       ")"
      ]
     },
     "execution_count": 4,
     "metadata": {},
     "output_type": "execute_result"
    }
   ],
   "source": [
    "model"
   ]
  },
  {
   "cell_type": "code",
   "execution_count": 5,
   "id": "fcdf4fab",
   "metadata": {},
   "outputs": [],
   "source": [
    "NEO4J_URI = \"bolt://localhost:7689\"\n",
    "NEO4J_USER = \"neo4j\"\n",
    "NEO4J_PASSWORD = \"busticket123\"\n",
    "\n",
    "driver = neo4j.GraphDatabase.driver(NEO4J_URI, auth=(NEO4J_USER, NEO4J_PASSWORD))"
   ]
  },
  {
   "cell_type": "code",
   "execution_count": null,
   "id": "6a26a11a",
   "metadata": {},
   "outputs": [],
   "source": [
    "\n",
    "INDEX_NAME = \"embedding-index\"\n",
    "DIMENSION=384\n",
    "\n",
    "\n",
    "# Creating the index\n",
    "create_vector_index(\n",
    "    driver,\n",
    "    INDEX_NAME,\n",
    "    label=\"Test\",\n",
    "    embedding_property=\"embedding\",\n",
    "    dimensions=DIMENSION,\n",
    "    similarity_fn=\"cosine\",\n",
    ")"
   ]
  },
  {
   "cell_type": "code",
   "execution_count": null,
   "id": "6bebd0f2",
   "metadata": {},
   "outputs": [],
   "source": [
    "# Upsert the vector\n",
    "DIMENSION = 1536\n",
    "vector = [random() for _ in range(DIMENSION)]\n",
    "upsert_vectors(\n",
    "    driver,\n",
    "    ids=[\"1234\"],\n",
    "    embedding_property=\"vectorProperty\",\n",
    "    embeddings=[vector],\n",
    "    entity_type=EntityType.NODE,\n",
    ")"
   ]
  }
 ],
 "metadata": {
  "kernelspec": {
   "display_name": "py310",
   "language": "python",
   "name": "python3"
  },
  "language_info": {
   "codemirror_mode": {
    "name": "ipython",
    "version": 3
   },
   "file_extension": ".py",
   "mimetype": "text/x-python",
   "name": "python",
   "nbconvert_exporter": "python",
   "pygments_lexer": "ipython3",
   "version": "3.10.16"
  }
 },
 "nbformat": 4,
 "nbformat_minor": 5
}
