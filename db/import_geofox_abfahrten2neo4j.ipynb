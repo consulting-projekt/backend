{
 "cells": [
  {
   "cell_type": "code",
   "execution_count": 1,
   "metadata": {},
   "outputs": [],
   "source": [
    "import neo4j\n",
    "import pandas as pd\n",
    "from utils_neo4j import init, add_station_relationships\n",
    "import pandas as pd"
   ]
  },
  {
   "cell_type": "code",
   "execution_count": 2,
   "metadata": {},
   "outputs": [],
   "source": [
    "NEO4J_URI = \"bolt://localhost:7689\"\n",
    "NEO4J_USER = \"neo4j\"\n",
    "NEO4J_PASSWORD = \"busticket123\"\n",
    "\n",
    "driver = neo4j.GraphDatabase.driver(NEO4J_URI, auth=(NEO4J_USER, NEO4J_PASSWORD))\n",
    "init(driver)"
   ]
  },
  {
   "cell_type": "code",
   "execution_count": 3,
   "metadata": {},
   "outputs": [],
   "source": [
    "# load departures preproc from json\n",
    "departures_preproc = pd.read_json(\"data_geofox/departures_all_preproc.json\")"
   ]
  },
  {
   "cell_type": "code",
   "execution_count": 4,
   "metadata": {},
   "outputs": [],
   "source": [
    "mask = ~departures_preproc.next_station.isna()"
   ]
  },
  {
   "cell_type": "code",
   "execution_count": 5,
   "metadata": {},
   "outputs": [],
   "source": [
    "departures_preproc = departures_preproc[mask]"
   ]
  },
  {
   "cell_type": "code",
   "execution_count": 6,
   "metadata": {},
   "outputs": [
    {
     "data": {
      "text/html": [
       "<div>\n",
       "<style scoped>\n",
       "    .dataframe tbody tr th:only-of-type {\n",
       "        vertical-align: middle;\n",
       "    }\n",
       "\n",
       "    .dataframe tbody tr th {\n",
       "        vertical-align: top;\n",
       "    }\n",
       "\n",
       "    .dataframe thead th {\n",
       "        text-align: right;\n",
       "    }\n",
       "</style>\n",
       "<table border=\"1\" class=\"dataframe\">\n",
       "  <thead>\n",
       "    <tr style=\"text-align: right;\">\n",
       "      <th></th>\n",
       "      <th>from_station</th>\n",
       "      <th>from_station_id</th>\n",
       "      <th>line_terminal</th>\n",
       "      <th>line_origin</th>\n",
       "      <th>line_id</th>\n",
       "      <th>line_name</th>\n",
       "      <th>line_info</th>\n",
       "      <th>direction_id</th>\n",
       "      <th>departure_time</th>\n",
       "      <th>platform</th>\n",
       "      <th>next_station</th>\n",
       "      <th>arrival_time</th>\n",
       "    </tr>\n",
       "  </thead>\n",
       "  <tbody>\n",
       "    <tr>\n",
       "      <th>0</th>\n",
       "      <td>Berliner Tor</td>\n",
       "      <td>Master:10952</td>\n",
       "      <td>Jungfernstieg</td>\n",
       "      <td>Hammer Kirche</td>\n",
       "      <td>HHA-U:U2_HHA-U</td>\n",
       "      <td>U2</td>\n",
       "      <td>U-Bahn</td>\n",
       "      <td>6</td>\n",
       "      <td>2025-04-03 00:01:00</td>\n",
       "      <td>Gleis 3</td>\n",
       "      <td>Hammer Kirche</td>\n",
       "      <td>2025-04-03 00:02:00</td>\n",
       "    </tr>\n",
       "    <tr>\n",
       "      <th>1</th>\n",
       "      <td>Berliner Tor</td>\n",
       "      <td>Master:10952</td>\n",
       "      <td>Hammer Kirche</td>\n",
       "      <td>Jungfernstieg</td>\n",
       "      <td>HHA-U:U2_HHA-U</td>\n",
       "      <td>U2</td>\n",
       "      <td>U-Bahn</td>\n",
       "      <td>1</td>\n",
       "      <td>2025-04-03 00:02:00</td>\n",
       "      <td>Gleis 2</td>\n",
       "      <td>Burgstraße</td>\n",
       "      <td>2025-04-03 00:04:00</td>\n",
       "    </tr>\n",
       "    <tr>\n",
       "      <th>2</th>\n",
       "      <td>Berliner Tor</td>\n",
       "      <td>Master:10952</td>\n",
       "      <td>Ohlsdorf</td>\n",
       "      <td>Elbgaustraße</td>\n",
       "      <td>SBH:S5_SBH_SBAHNS</td>\n",
       "      <td>S5</td>\n",
       "      <td>S-Bahn</td>\n",
       "      <td>1</td>\n",
       "      <td>2025-04-03 00:04:00</td>\n",
       "      <td>Gleis 3 (S-Bahn)</td>\n",
       "      <td>Landwehr</td>\n",
       "      <td>2025-04-03 00:07:00</td>\n",
       "    </tr>\n",
       "    <tr>\n",
       "      <th>3</th>\n",
       "      <td>Billhorner Deich</td>\n",
       "      <td>Master:10000</td>\n",
       "      <td>U Steinfurther Allee</td>\n",
       "      <td>U S Elbbrücken (Baakenwerder Straße)</td>\n",
       "      <td>VHH:119_VHH</td>\n",
       "      <td>119</td>\n",
       "      <td>Niederflur Stadtbus</td>\n",
       "      <td>1</td>\n",
       "      <td>2025-04-03 00:05:00</td>\n",
       "      <td></td>\n",
       "      <td>Thiedingreihe</td>\n",
       "      <td>2025-04-03 00:06:00</td>\n",
       "    </tr>\n",
       "    <tr>\n",
       "      <th>4</th>\n",
       "      <td>Hauptbahnhof/ZOB</td>\n",
       "      <td>Master:10002</td>\n",
       "      <td>U S Berliner Tor (Beim Strohhause)</td>\n",
       "      <td>Schenefeld, Busbetriebshof</td>\n",
       "      <td>VHH:2_VHH</td>\n",
       "      <td>2</td>\n",
       "      <td>Niederflur Metrobus</td>\n",
       "      <td>1</td>\n",
       "      <td>2025-04-03 00:05:00</td>\n",
       "      <td></td>\n",
       "      <td>Kurt-Schumacher-Allee</td>\n",
       "      <td>2025-04-03 00:07:00</td>\n",
       "    </tr>\n",
       "    <tr>\n",
       "      <th>...</th>\n",
       "      <td>...</td>\n",
       "      <td>...</td>\n",
       "      <td>...</td>\n",
       "      <td>...</td>\n",
       "      <td>...</td>\n",
       "      <td>...</td>\n",
       "      <td>...</td>\n",
       "      <td>...</td>\n",
       "      <td>...</td>\n",
       "      <td>...</td>\n",
       "      <td>...</td>\n",
       "      <td>...</td>\n",
       "    </tr>\n",
       "    <tr>\n",
       "      <th>644318</th>\n",
       "      <td>Hauptbahnhof Nord</td>\n",
       "      <td>Master:10905</td>\n",
       "      <td>Niendorf Nord</td>\n",
       "      <td>Hammer Kirche</td>\n",
       "      <td>HHA-U:U2_HHA-U</td>\n",
       "      <td>U2</td>\n",
       "      <td>U-Bahn</td>\n",
       "      <td>6</td>\n",
       "      <td>2025-04-03 23:58:00</td>\n",
       "      <td>Gleis 2</td>\n",
       "      <td>Joachim-Mähl-Straße</td>\n",
       "      <td>2025-04-03 23:59:00</td>\n",
       "    </tr>\n",
       "    <tr>\n",
       "      <th>644319</th>\n",
       "      <td>Hauptbahnhof Süd</td>\n",
       "      <td>Master:10906</td>\n",
       "      <td>Schlump - Barmbek</td>\n",
       "      <td>Wandsbek-Gartenstadt</td>\n",
       "      <td>HHA-U:U3_HHA-U</td>\n",
       "      <td>U3</td>\n",
       "      <td>U-Bahn</td>\n",
       "      <td>6</td>\n",
       "      <td>2025-04-03 23:58:00</td>\n",
       "      <td>Gleis 4</td>\n",
       "      <td>Feldstraße (Heiligengeistfeld)</td>\n",
       "      <td>2025-04-03 23:59:00</td>\n",
       "    </tr>\n",
       "    <tr>\n",
       "      <th>644321</th>\n",
       "      <td>HBF/Steintorwall</td>\n",
       "      <td>Master:10001</td>\n",
       "      <td>Schenefeld, Schenefelder Platz</td>\n",
       "      <td>U S Berliner Tor (Beim Strohhause)</td>\n",
       "      <td>VHH:2_VHH</td>\n",
       "      <td>2</td>\n",
       "      <td>Niederflur Metrobus</td>\n",
       "      <td>6</td>\n",
       "      <td>2025-04-03 23:58:00</td>\n",
       "      <td></td>\n",
       "      <td>Ericusspitze</td>\n",
       "      <td>2025-04-04 00:00:00</td>\n",
       "    </tr>\n",
       "    <tr>\n",
       "      <th>644322</th>\n",
       "      <td>Hamburg Hbf</td>\n",
       "      <td>Master:10950</td>\n",
       "      <td>Wedel</td>\n",
       "      <td>Poppenbüttel</td>\n",
       "      <td>ZVU-DB:S1_ZVU-DB_SBHZVU</td>\n",
       "      <td>S1</td>\n",
       "      <td>S-Bahn</td>\n",
       "      <td>6</td>\n",
       "      <td>2025-04-03 23:58:00</td>\n",
       "      <td>Gleis 1 (S-Bahn)</td>\n",
       "      <td>Ohlsdorf</td>\n",
       "      <td>2025-04-03 23:59:00</td>\n",
       "    </tr>\n",
       "    <tr>\n",
       "      <th>644324</th>\n",
       "      <td>HBF/Steintorwall</td>\n",
       "      <td>Master:10001</td>\n",
       "      <td>Kraftwerk Tiefstack</td>\n",
       "      <td>Stadionstraße</td>\n",
       "      <td>VHH:3_VHH</td>\n",
       "      <td>3</td>\n",
       "      <td>Niederflur Metrobus</td>\n",
       "      <td>1</td>\n",
       "      <td>2025-04-03 23:59:00</td>\n",
       "      <td></td>\n",
       "      <td>Kaltenkircher Platz</td>\n",
       "      <td>2025-04-04 00:00:00</td>\n",
       "    </tr>\n",
       "  </tbody>\n",
       "</table>\n",
       "<p>642084 rows × 12 columns</p>\n",
       "</div>"
      ],
      "text/plain": [
       "             from_station from_station_id                       line_terminal  \\\n",
       "0            Berliner Tor    Master:10952                       Jungfernstieg   \n",
       "1            Berliner Tor    Master:10952                       Hammer Kirche   \n",
       "2            Berliner Tor    Master:10952                            Ohlsdorf   \n",
       "3        Billhorner Deich    Master:10000                U Steinfurther Allee   \n",
       "4        Hauptbahnhof/ZOB    Master:10002  U S Berliner Tor (Beim Strohhause)   \n",
       "...                   ...             ...                                 ...   \n",
       "644318  Hauptbahnhof Nord    Master:10905                       Niendorf Nord   \n",
       "644319   Hauptbahnhof Süd    Master:10906                   Schlump - Barmbek   \n",
       "644321   HBF/Steintorwall    Master:10001      Schenefeld, Schenefelder Platz   \n",
       "644322        Hamburg Hbf    Master:10950                               Wedel   \n",
       "644324   HBF/Steintorwall    Master:10001                 Kraftwerk Tiefstack   \n",
       "\n",
       "                                 line_origin                  line_id  \\\n",
       "0                              Hammer Kirche           HHA-U:U2_HHA-U   \n",
       "1                              Jungfernstieg           HHA-U:U2_HHA-U   \n",
       "2                               Elbgaustraße        SBH:S5_SBH_SBAHNS   \n",
       "3       U S Elbbrücken (Baakenwerder Straße)              VHH:119_VHH   \n",
       "4                 Schenefeld, Busbetriebshof                VHH:2_VHH   \n",
       "...                                      ...                      ...   \n",
       "644318                         Hammer Kirche           HHA-U:U2_HHA-U   \n",
       "644319                  Wandsbek-Gartenstadt           HHA-U:U3_HHA-U   \n",
       "644321    U S Berliner Tor (Beim Strohhause)                VHH:2_VHH   \n",
       "644322                          Poppenbüttel  ZVU-DB:S1_ZVU-DB_SBHZVU   \n",
       "644324                         Stadionstraße                VHH:3_VHH   \n",
       "\n",
       "       line_name            line_info  direction_id      departure_time  \\\n",
       "0             U2               U-Bahn             6 2025-04-03 00:01:00   \n",
       "1             U2               U-Bahn             1 2025-04-03 00:02:00   \n",
       "2             S5               S-Bahn             1 2025-04-03 00:04:00   \n",
       "3            119  Niederflur Stadtbus             1 2025-04-03 00:05:00   \n",
       "4              2  Niederflur Metrobus             1 2025-04-03 00:05:00   \n",
       "...          ...                  ...           ...                 ...   \n",
       "644318        U2               U-Bahn             6 2025-04-03 23:58:00   \n",
       "644319        U3               U-Bahn             6 2025-04-03 23:58:00   \n",
       "644321         2  Niederflur Metrobus             6 2025-04-03 23:58:00   \n",
       "644322        S1               S-Bahn             6 2025-04-03 23:58:00   \n",
       "644324         3  Niederflur Metrobus             1 2025-04-03 23:59:00   \n",
       "\n",
       "                platform                    next_station        arrival_time  \n",
       "0                Gleis 3                   Hammer Kirche 2025-04-03 00:02:00  \n",
       "1                Gleis 2                      Burgstraße 2025-04-03 00:04:00  \n",
       "2       Gleis 3 (S-Bahn)                        Landwehr 2025-04-03 00:07:00  \n",
       "3                                          Thiedingreihe 2025-04-03 00:06:00  \n",
       "4                                  Kurt-Schumacher-Allee 2025-04-03 00:07:00  \n",
       "...                  ...                             ...                 ...  \n",
       "644318           Gleis 2             Joachim-Mähl-Straße 2025-04-03 23:59:00  \n",
       "644319           Gleis 4  Feldstraße (Heiligengeistfeld) 2025-04-03 23:59:00  \n",
       "644321                                      Ericusspitze 2025-04-04 00:00:00  \n",
       "644322  Gleis 1 (S-Bahn)                        Ohlsdorf 2025-04-03 23:59:00  \n",
       "644324                               Kaltenkircher Platz 2025-04-04 00:00:00  \n",
       "\n",
       "[642084 rows x 12 columns]"
      ]
     },
     "execution_count": 6,
     "metadata": {},
     "output_type": "execute_result"
    }
   ],
   "source": [
    "departures_preproc"
   ]
  },
  {
   "cell_type": "code",
   "execution_count": 7,
   "metadata": {},
   "outputs": [],
   "source": [
    "processed_data = departures_preproc.to_dict('records')"
   ]
  },
  {
   "cell_type": "code",
   "execution_count": 8,
   "metadata": {},
   "outputs": [
    {
     "name": "stdout",
     "output_type": "stream",
     "text": [
      "Adding 642084 relationships to Neo4j...\n"
     ]
    },
    {
     "name": "stderr",
     "output_type": "stream",
     "text": [
      "Adding relationships to Neo4j:   1%|          | 5/643 [00:07<16:06,  1.51s/it]"
     ]
    },
    {
     "name": "stdout",
     "output_type": "stream",
     "text": [
      "Skipping departure from 'Borgfelder Straße' to 'U Hammer Kirche (Hammer Landstraße)' - Destination station does not exist\n",
      "Skipping departure from 'U Burgstraße' to 'U Hammer Kirche (Hammer Landstraße)' - Destination station does not exist\n",
      "Skipping departure from 'U Hammer Kirche' to 'U Hammer Kirche (Hammer Landstraße)' - Destination station does not exist\n",
      "Skipping departure from 'U Hammer Kirche' to 'U Hammer Kirche (Hammer Landstraße)' - Destination station does not exist\n",
      "Skipping departure from 'U Hammer Kirche' to 'U Hammer Kirche (Hammer Landstraße)' - Destination station does not exist\n",
      "Skipping departure from 'U Hammer Kirche' to 'U Hammer Kirche (Hammer Landstraße)' - Destination station does not exist\n",
      "Skipping departure from 'U Hammer Kirche' to 'U Hammer Kirche (Hammer Landstraße)' - Destination station does not exist\n",
      "Skipping departure from 'U Hammer Kirche' to 'U Hammer Kirche (Hammer Landstraße)' - Destination station does not exist\n",
      "Skipping departure from 'U Hammer Kirche' to 'U Hammer Kirche (Hammer Landstraße)' - Destination station does not exist\n",
      "Skipping departure from 'U Hammer Kirche' to 'U Hammer Kirche (Hammer Landstraße)' - Destination station does not exist\n",
      "Skipping departure from 'U Hammer Kirche' to 'U Hammer Kirche (Hammer Landstraße)' - Destination station does not exist\n"
     ]
    },
    {
     "name": "stderr",
     "output_type": "stream",
     "text": [
      "Adding relationships to Neo4j:   1%|          | 6/643 [00:09<17:10,  1.62s/it]"
     ]
    },
    {
     "name": "stdout",
     "output_type": "stream",
     "text": [
      "Skipping departure from 'U Hammer Kirche' to 'U Hammer Kirche (Hammer Landstraße)' - Destination station does not exist\n",
      "Skipping departure from 'U Hammer Kirche' to 'U Hammer Kirche (Hammer Landstraße)' - Destination station does not exist\n",
      "Skipping departure from 'U Hammer Kirche' to 'U Hammer Kirche (Hammer Landstraße)' - Destination station does not exist\n",
      "Skipping departure from 'U Hammer Kirche' to 'U Hammer Kirche (Hammer Landstraße)' - Destination station does not exist\n",
      "Skipping departure from 'U Hammer Kirche' to 'U Hammer Kirche (Hammer Landstraße)' - Destination station does not exist\n",
      "Skipping departure from 'U Hammer Kirche' to 'U Hammer Kirche (Hammer Landstraße)' - Destination station does not exist\n",
      "Skipping departure from 'U Hammer Kirche' to 'U Hammer Kirche (Hammer Landstraße)' - Destination station does not exist\n",
      "Skipping departure from 'U Hammer Kirche' to 'U Hammer Kirche (Hammer Landstraße)' - Destination station does not exist\n",
      "Skipping departure from 'U Hammer Kirche' to 'U Hammer Kirche (Hammer Landstraße)' - Destination station does not exist\n",
      "Skipping departure from 'U Hammer Kirche' to 'U Hammer Kirche (Hammer Landstraße)' - Destination station does not exist\n",
      "Skipping departure from 'U Hammer Kirche' to 'U Hammer Kirche (Hammer Landstraße)' - Destination station does not exist\n",
      "Skipping departure from 'U Hammer Kirche' to 'U Hammer Kirche (Hammer Landstraße)' - Destination station does not exist\n",
      "Skipping departure from 'U Hammer Kirche' to 'U Hammer Kirche (Hammer Landstraße)' - Destination station does not exist\n"
     ]
    },
    {
     "name": "stderr",
     "output_type": "stream",
     "text": [
      "Adding relationships to Neo4j:   1%|          | 7/643 [00:11<16:37,  1.57s/it]"
     ]
    },
    {
     "name": "stdout",
     "output_type": "stream",
     "text": [
      "Skipping departure from 'U Hammer Kirche' to 'U Hammer Kirche (Hammer Landstraße)' - Destination station does not exist\n",
      "Skipping departure from 'U Hammer Kirche' to 'U Hammer Kirche (Hammer Landstraße)' - Destination station does not exist\n",
      "Skipping departure from 'U Hammer Kirche' to 'U Hammer Kirche (Hammer Landstraße)' - Destination station does not exist\n",
      "Skipping departure from 'U Hammer Kirche' to 'U Hammer Kirche (Hammer Landstraße)' - Destination station does not exist\n",
      "Skipping departure from 'U Hammer Kirche' to 'U Hammer Kirche (Hammer Landstraße)' - Destination station does not exist\n",
      "Skipping departure from 'U Hammer Kirche' to 'U Hammer Kirche (Hammer Landstraße)' - Destination station does not exist\n",
      "Skipping departure from 'U Hammer Kirche' to 'U Hammer Kirche (Hammer Landstraße)' - Destination station does not exist\n",
      "Skipping departure from 'U Hammer Kirche' to 'U Hammer Kirche (Hammer Landstraße)' - Destination station does not exist\n",
      "Skipping departure from 'U Hammer Kirche' to 'U Hammer Kirche (Hammer Landstraße)' - Destination station does not exist\n",
      "Skipping departure from 'U Hammer Kirche' to 'U Hammer Kirche (Hammer Landstraße)' - Destination station does not exist\n",
      "Skipping departure from 'U Hammer Kirche' to 'U Hammer Kirche (Hammer Landstraße)' - Destination station does not exist\n",
      "Skipping departure from 'U Hammer Kirche' to 'U Hammer Kirche (Hammer Landstraße)' - Destination station does not exist\n",
      "Skipping departure from 'U Hammer Kirche' to 'U Hammer Kirche (Hammer Landstraße)' - Destination station does not exist\n"
     ]
    },
    {
     "name": "stderr",
     "output_type": "stream",
     "text": [
      "Adding relationships to Neo4j:   1%|          | 8/643 [00:12<16:20,  1.54s/it]"
     ]
    },
    {
     "name": "stdout",
     "output_type": "stream",
     "text": [
      "Skipping departure from 'U Hammer Kirche' to 'U Hammer Kirche (Hammer Landstraße)' - Destination station does not exist\n",
      "Skipping departure from 'U Hammer Kirche' to 'U Hammer Kirche (Hammer Landstraße)' - Destination station does not exist\n",
      "Skipping departure from 'U Hammer Kirche' to 'U Hammer Kirche (Hammer Landstraße)' - Destination station does not exist\n",
      "Skipping departure from 'U Hammer Kirche' to 'U Hammer Kirche (Hammer Landstraße)' - Destination station does not exist\n",
      "Skipping departure from 'U Hammer Kirche' to 'U Hammer Kirche (Hammer Landstraße)' - Destination station does not exist\n",
      "Skipping departure from 'U Hammer Kirche' to 'U Hammer Kirche (Hammer Landstraße)' - Destination station does not exist\n",
      "Skipping departure from 'U Hammer Kirche' to 'U Hammer Kirche (Hammer Landstraße)' - Destination station does not exist\n",
      "Skipping departure from 'U Hammer Kirche' to 'U Hammer Kirche (Hammer Landstraße)' - Destination station does not exist\n",
      "Skipping departure from 'U Hammer Kirche' to 'U Hammer Kirche (Hammer Landstraße)' - Destination station does not exist\n",
      "Skipping departure from 'Hübbesweg' to 'U Hammer Kirche (Hammer Landstraße)' - Destination station does not exist\n"
     ]
    },
    {
     "name": "stderr",
     "output_type": "stream",
     "text": [
      "Adding relationships to Neo4j:   5%|▍         | 29/643 [00:43<15:53,  1.55s/it]"
     ]
    },
    {
     "name": "stdout",
     "output_type": "stream",
     "text": [
      "Skipping departure from 'Kaltehofe-Hinterdeich' to 'U Hammer Kirche (Hammer Landstraße)' - Destination station does not exist\n",
      "Skipping departure from 'Kaltehofe-Hinterdeich' to 'U Hammer Kirche (Hammer Landstraße)' - Destination station does not exist\n"
     ]
    },
    {
     "name": "stderr",
     "output_type": "stream",
     "text": [
      "Adding relationships to Neo4j:   5%|▌         | 34/643 [00:50<14:59,  1.48s/it]"
     ]
    },
    {
     "name": "stdout",
     "output_type": "stream",
     "text": [
      "Skipping departure from 'U Burgstraße' to 'U Hammer Kirche (Hammer Landstraße)' - Destination station does not exist\n",
      "Skipping departure from 'U Hammer Kirche' to 'U Hammer Kirche (Hammer Landstraße)' - Destination station does not exist\n",
      "Skipping departure from 'U Hammer Kirche' to 'U Hammer Kirche (Hammer Landstraße)' - Destination station does not exist\n",
      "Skipping departure from 'U Hammer Kirche' to 'U Hammer Kirche (Hammer Landstraße)' - Destination station does not exist\n",
      "Skipping departure from 'U Hammer Kirche' to 'U Hammer Kirche (Hammer Landstraße)' - Destination station does not exist\n"
     ]
    },
    {
     "name": "stderr",
     "output_type": "stream",
     "text": [
      "Adding relationships to Neo4j:   5%|▌         | 35/643 [00:51<14:57,  1.48s/it]"
     ]
    },
    {
     "name": "stdout",
     "output_type": "stream",
     "text": [
      "Skipping departure from 'U Hammer Kirche' to 'U Hammer Kirche (Hammer Landstraße)' - Destination station does not exist\n",
      "Skipping departure from 'U Hammer Kirche' to 'U Hammer Kirche (Hammer Landstraße)' - Destination station does not exist\n",
      "Skipping departure from 'U Hammer Kirche' to 'U Hammer Kirche (Hammer Landstraße)' - Destination station does not exist\n",
      "Skipping departure from 'U Hammer Kirche' to 'U Hammer Kirche (Hammer Landstraße)' - Destination station does not exist\n",
      "Skipping departure from 'U Hammer Kirche' to 'U Hammer Kirche (Hammer Landstraße)' - Destination station does not exist\n",
      "Skipping departure from 'U Hammer Kirche' to 'U Hammer Kirche (Hammer Landstraße)' - Destination station does not exist\n",
      "Skipping departure from 'U Hammer Kirche' to 'U Hammer Kirche (Hammer Landstraße)' - Destination station does not exist\n",
      "Skipping departure from 'U Hammer Kirche' to 'U Hammer Kirche (Hammer Landstraße)' - Destination station does not exist\n"
     ]
    },
    {
     "name": "stderr",
     "output_type": "stream",
     "text": [
      "Adding relationships to Neo4j:   6%|▌         | 36/643 [00:53<14:57,  1.48s/it]"
     ]
    },
    {
     "name": "stdout",
     "output_type": "stream",
     "text": [
      "Skipping departure from 'U Hammer Kirche' to 'U Hammer Kirche (Hammer Landstraße)' - Destination station does not exist\n",
      "Skipping departure from 'U Hammer Kirche' to 'U Hammer Kirche (Hammer Landstraße)' - Destination station does not exist\n",
      "Skipping departure from 'U Hammer Kirche' to 'U Hammer Kirche (Hammer Landstraße)' - Destination station does not exist\n",
      "Skipping departure from 'U Hammer Kirche' to 'U Hammer Kirche (Hammer Landstraße)' - Destination station does not exist\n",
      "Skipping departure from 'U Hammer Kirche' to 'U Hammer Kirche (Hammer Landstraße)' - Destination station does not exist\n",
      "Skipping departure from 'U Hammer Kirche' to 'U Hammer Kirche (Hammer Landstraße)' - Destination station does not exist\n"
     ]
    },
    {
     "name": "stderr",
     "output_type": "stream",
     "text": [
      "Adding relationships to Neo4j:   6%|▌         | 37/643 [00:55<16:23,  1.62s/it]"
     ]
    },
    {
     "name": "stdout",
     "output_type": "stream",
     "text": [
      "Skipping departure from 'U Hammer Kirche' to 'U Hammer Kirche (Hammer Landstraße)' - Destination station does not exist\n",
      "Skipping departure from 'U Hammer Kirche' to 'U Hammer Kirche (Hammer Landstraße)' - Destination station does not exist\n",
      "Skipping departure from 'U Hammer Kirche' to 'U Hammer Kirche (Hammer Landstraße)' - Destination station does not exist\n",
      "Skipping departure from 'U Hammer Kirche' to 'U Hammer Kirche (Hammer Landstraße)' - Destination station does not exist\n",
      "Skipping departure from 'U Hammer Kirche' to 'U Hammer Kirche (Hammer Landstraße)' - Destination station does not exist\n",
      "Skipping departure from 'U Hammer Kirche' to 'U Hammer Kirche (Hammer Landstraße)' - Destination station does not exist\n"
     ]
    },
    {
     "name": "stderr",
     "output_type": "stream",
     "text": [
      "Adding relationships to Neo4j:   6%|▌         | 38/643 [00:56<15:55,  1.58s/it]"
     ]
    },
    {
     "name": "stdout",
     "output_type": "stream",
     "text": [
      "Skipping departure from 'U Hammer Kirche' to 'U Hammer Kirche (Hammer Landstraße)' - Destination station does not exist\n",
      "Skipping departure from 'U Hammer Kirche' to 'U Hammer Kirche (Hammer Landstraße)' - Destination station does not exist\n",
      "Skipping departure from 'U Hammer Kirche' to 'U Hammer Kirche (Hammer Landstraße)' - Destination station does not exist\n",
      "Skipping departure from 'U Hammer Kirche' to 'U Hammer Kirche (Hammer Landstraße)' - Destination station does not exist\n",
      "Skipping departure from 'U Hammer Kirche' to 'U Hammer Kirche (Hammer Landstraße)' - Destination station does not exist\n",
      "Skipping departure from 'U Hammer Kirche' to 'U Hammer Kirche (Hammer Landstraße)' - Destination station does not exist\n",
      "Skipping departure from 'U Hammer Kirche' to 'U Hammer Kirche (Hammer Landstraße)' - Destination station does not exist\n"
     ]
    },
    {
     "name": "stderr",
     "output_type": "stream",
     "text": [
      "Adding relationships to Neo4j:   6%|▌         | 39/643 [00:58<15:33,  1.55s/it]"
     ]
    },
    {
     "name": "stdout",
     "output_type": "stream",
     "text": [
      "Skipping departure from 'U Hammer Kirche' to 'U Hammer Kirche (Hammer Landstraße)' - Destination station does not exist\n",
      "Skipping departure from 'U Hammer Kirche' to 'U Hammer Kirche (Hammer Landstraße)' - Destination station does not exist\n",
      "Skipping departure from 'U Hammer Kirche' to 'U Hammer Kirche (Hammer Landstraße)' - Destination station does not exist\n",
      "Skipping departure from 'U Hammer Kirche' to 'U Hammer Kirche (Hammer Landstraße)' - Destination station does not exist\n",
      "Skipping departure from 'U Hammer Kirche' to 'U Hammer Kirche (Hammer Landstraße)' - Destination station does not exist\n",
      "Skipping departure from 'U Hammer Kirche' to 'U Hammer Kirche (Hammer Landstraße)' - Destination station does not exist\n",
      "Skipping departure from 'U Hammer Kirche' to 'U Hammer Kirche (Hammer Landstraße)' - Destination station does not exist\n",
      "Skipping departure from 'U Hammer Kirche' to 'U Hammer Kirche (Hammer Landstraße)' - Destination station does not exist\n",
      "Skipping departure from 'U Hammer Kirche' to 'U Hammer Kirche (Hammer Landstraße)' - Destination station does not exist\n",
      "Skipping departure from 'U Hammer Kirche' to 'U Hammer Kirche (Hammer Landstraße)' - Destination station does not exist\n"
     ]
    },
    {
     "name": "stderr",
     "output_type": "stream",
     "text": [
      "Adding relationships to Neo4j:   6%|▌         | 40/643 [00:59<15:32,  1.55s/it]"
     ]
    },
    {
     "name": "stdout",
     "output_type": "stream",
     "text": [
      "Skipping departure from 'U Hammer Kirche' to 'U Hammer Kirche (Hammer Landstraße)' - Destination station does not exist\n",
      "Skipping departure from 'U Hammer Kirche' to 'U Hammer Kirche (Hammer Landstraße)' - Destination station does not exist\n",
      "Skipping departure from 'U Hammer Kirche' to 'U Hammer Kirche (Hammer Landstraße)' - Destination station does not exist\n"
     ]
    },
    {
     "name": "stderr",
     "output_type": "stream",
     "text": [
      "Adding relationships to Neo4j:   9%|▊         | 56/643 [01:24<14:35,  1.49s/it]"
     ]
    },
    {
     "name": "stdout",
     "output_type": "stream",
     "text": [
      "Skipping departure from 'Hamburg Dammtor' to 'Horst (Holst)' - Destination station does not exist\n"
     ]
    },
    {
     "name": "stderr",
     "output_type": "stream",
     "text": [
      "Adding relationships to Neo4j:  14%|█▍        | 90/643 [02:15<13:24,  1.46s/it]"
     ]
    },
    {
     "name": "stdout",
     "output_type": "stream",
     "text": [
      "Skipping departure from 'Hamburg Dammtor' to 'Horst (Holst)' - Destination station does not exist\n"
     ]
    },
    {
     "name": "stderr",
     "output_type": "stream",
     "text": [
      "Adding relationships to Neo4j:  25%|██▍       | 159/643 [03:58<11:48,  1.46s/it]"
     ]
    },
    {
     "name": "stdout",
     "output_type": "stream",
     "text": [
      "Skipping departure from 'Knoopstraße/Bremer Straße' to 'Neuhof (Fähre)' - Destination station does not exist\n"
     ]
    },
    {
     "name": "stderr",
     "output_type": "stream",
     "text": [
      "Adding relationships to Neo4j:  31%|███       | 200/643 [05:00<10:49,  1.47s/it]"
     ]
    },
    {
     "name": "stdout",
     "output_type": "stream",
     "text": [
      "Skipping departure from 'Rübke, Nincoper Deich (Kehre)' to 'Rübke, Nincoper Deich (Kehre)' - Destination station does not exist\n"
     ]
    },
    {
     "name": "stderr",
     "output_type": "stream",
     "text": [
      "Adding relationships to Neo4j:  31%|███▏      | 201/643 [05:02<11:06,  1.51s/it]"
     ]
    },
    {
     "name": "stdout",
     "output_type": "stream",
     "text": [
      "Skipping departure from 'Rübke, Nincoper Deich (Kehre)' to 'Rübke, Nincoper Deich (Kehre)' - Destination station does not exist\n",
      "Skipping departure from 'Rübke, Nincoper Deich (Kehre)' to 'Rübke, Nincoper Deich (Kehre)' - Destination station does not exist\n",
      "Skipping departure from 'Rübke, Nincoper Deich (Kehre)' to 'Rübke, Nincoper Deich (Kehre)' - Destination station does not exist\n",
      "Skipping departure from 'Rübke, Nincoper Deich (Kehre)' to 'Rübke, Nincoper Deich (Kehre)' - Destination station does not exist\n"
     ]
    },
    {
     "name": "stderr",
     "output_type": "stream",
     "text": [
      "Adding relationships to Neo4j:  31%|███▏      | 202/643 [05:03<10:59,  1.50s/it]"
     ]
    },
    {
     "name": "stdout",
     "output_type": "stream",
     "text": [
      "Skipping departure from 'Bf. Harburg (Großmoordamm)' to 'Neuhof (Fähre)' - Destination station does not exist\n",
      "Skipping departure from 'Bf. Harburg (Großmoordamm)' to 'Neuhof (Fähre)' - Destination station does not exist\n",
      "Skipping departure from 'Bf. Harburg (Großmoordamm)' to 'Neuhof (Fähre)' - Destination station does not exist\n",
      "Skipping departure from 'Bf. Harburg (Großmoordamm)' to 'Neuhof (Fähre)' - Destination station does not exist\n"
     ]
    },
    {
     "name": "stderr",
     "output_type": "stream",
     "text": [
      "Adding relationships to Neo4j:  32%|███▏      | 203/643 [05:05<10:50,  1.48s/it]"
     ]
    },
    {
     "name": "stdout",
     "output_type": "stream",
     "text": [
      "Skipping departure from 'Bf. Harburg (Großmoordamm)' to 'Neuhof (Fähre)' - Destination station does not exist\n",
      "Skipping departure from 'Bf. Harburg (Großmoordamm)' to 'Neuhof (Fähre)' - Destination station does not exist\n",
      "Skipping departure from 'Bf. Harburg (Großmoordamm)' to 'Neuhof (Fähre)' - Destination station does not exist\n",
      "Skipping departure from 'Bf. Harburg (Großmoordamm)' to 'Neuhof (Fähre)' - Destination station does not exist\n"
     ]
    },
    {
     "name": "stderr",
     "output_type": "stream",
     "text": [
      "Adding relationships to Neo4j:  33%|███▎      | 209/643 [05:14<10:43,  1.48s/it]"
     ]
    },
    {
     "name": "stdout",
     "output_type": "stream",
     "text": [
      "Skipping departure from 'Inselpark' to 'Neuhof (Fähre)' - Destination station does not exist\n",
      "Skipping departure from 'Inselpark' to 'Neuhof (Fähre)' - Destination station does not exist\n",
      "Skipping departure from 'Inselpark' to 'Neuhof (Fähre)' - Destination station does not exist\n",
      "Skipping departure from 'Inselpark' to 'Neuhof (Fähre)' - Destination station does not exist\n",
      "Skipping departure from 'Inselpark' to 'Neuhof (Fähre)' - Destination station does not exist\n"
     ]
    },
    {
     "name": "stderr",
     "output_type": "stream",
     "text": [
      "Adding relationships to Neo4j:  34%|███▍      | 218/643 [05:27<10:13,  1.44s/it]"
     ]
    },
    {
     "name": "stdout",
     "output_type": "stream",
     "text": [
      "Skipping departure from 'Nippoldstraße (Ost)' to 'Neuhof (Fähre)' - Destination station does not exist\n"
     ]
    },
    {
     "name": "stderr",
     "output_type": "stream",
     "text": [
      "Adding relationships to Neo4j:  34%|███▍      | 219/643 [05:28<10:06,  1.43s/it]"
     ]
    },
    {
     "name": "stdout",
     "output_type": "stream",
     "text": [
      "Skipping departure from 'Röörfeld' to 'Neuhof (Fähre)' - Destination station does not exist\n",
      "Skipping departure from 'Röörfeld' to 'Neuhof (Fähre)' - Destination station does not exist\n",
      "Skipping departure from 'Röörfeld' to 'Neuhof (Fähre)' - Destination station does not exist\n",
      "Skipping departure from 'Röörfeld' to 'Neuhof (Fähre)' - Destination station does not exist\n",
      "Skipping departure from 'Röörfeld' to 'Neuhof (Fähre)' - Destination station does not exist\n",
      "Skipping departure from 'Röörfeld' to 'Neuhof (Fähre)' - Destination station does not exist\n"
     ]
    },
    {
     "name": "stderr",
     "output_type": "stream",
     "text": [
      "Adding relationships to Neo4j:  34%|███▍      | 220/643 [05:30<10:03,  1.43s/it]"
     ]
    },
    {
     "name": "stdout",
     "output_type": "stream",
     "text": [
      "Skipping departure from 'Nippoldstraße (West)' to 'Neuhof (Fähre)' - Destination station does not exist\n",
      "Skipping departure from 'Roßweg/HDW' to 'Neuhof (Fähre)' - Destination station does not exist\n",
      "Skipping departure from 'Roßweg/HDW' to 'Neuhof (Fähre)' - Destination station does not exist\n",
      "Skipping departure from 'Nippoldstraße (West)' to 'Neuhof (Fähre)' - Destination station does not exist\n",
      "Skipping departure from 'Roßweg/HDW' to 'Neuhof (Fähre)' - Destination station does not exist\n",
      "Skipping departure from 'Roßweg/HDW' to 'Neuhof (Fähre)' - Destination station does not exist\n",
      "Skipping departure from 'Roßweg/HDW' to 'Neuhof (Fähre)' - Destination station does not exist\n",
      "Skipping departure from 'Nippoldstraße (West)' to 'Neuhof (Fähre)' - Destination station does not exist\n",
      "Skipping departure from 'Roßweg/HDW' to 'Neuhof (Fähre)' - Destination station does not exist\n",
      "Skipping departure from 'Nippoldstraße (West)' to 'Neuhof (Fähre)' - Destination station does not exist\n",
      "Skipping departure from 'Roßweg/HDW' to 'Neuhof (Fähre)' - Destination station does not exist\n",
      "Skipping departure from 'Nippoldstraße (West)' to 'Neuhof (Fähre)' - Destination station does not exist\n",
      "Skipping departure from 'Roßweg/HDW' to 'Neuhof (Fähre)' - Destination station does not exist\n",
      "Skipping departure from 'Nippoldstraße (West)' to 'Neuhof (Fähre)' - Destination station does not exist\n",
      "Skipping departure from 'Roßweg/HDW' to 'Neuhof (Fähre)' - Destination station does not exist\n"
     ]
    },
    {
     "name": "stderr",
     "output_type": "stream",
     "text": [
      "Adding relationships to Neo4j:  34%|███▍      | 221/643 [05:31<10:56,  1.56s/it]"
     ]
    },
    {
     "name": "stdout",
     "output_type": "stream",
     "text": [
      "Skipping departure from 'S Wilhelmsburg' to 'Neuhof (Fähre)' - Destination station does not exist\n",
      "Skipping departure from 'S Wilhelmsburg' to 'Neuhof (Fähre)' - Destination station does not exist\n",
      "Skipping departure from 'Schwentnerring' to 'Neuhof (Fähre)' - Destination station does not exist\n",
      "Skipping departure from 'S Wilhelmsburg' to 'Neuhof (Fähre)' - Destination station does not exist\n",
      "Skipping departure from 'Schwentnerring' to 'Neuhof (Fähre)' - Destination station does not exist\n",
      "Skipping departure from 'S Wilhelmsburg' to 'Neuhof (Fähre)' - Destination station does not exist\n",
      "Skipping departure from 'S Wilhelmsburg' to 'Neuhof (Fähre)' - Destination station does not exist\n",
      "Skipping departure from 'S Wilhelmsburg' to 'Neuhof (Fähre)' - Destination station does not exist\n",
      "Skipping departure from 'S Wilhelmsburg' to 'Neuhof (Fähre)' - Destination station does not exist\n"
     ]
    },
    {
     "name": "stderr",
     "output_type": "stream",
     "text": [
      "Adding relationships to Neo4j:  35%|███▍      | 222/643 [05:33<10:37,  1.51s/it]"
     ]
    },
    {
     "name": "stdout",
     "output_type": "stream",
     "text": [
      "Skipping departure from 'Schwentnerring' to 'Neuhof (Fähre)' - Destination station does not exist\n"
     ]
    },
    {
     "name": "stderr",
     "output_type": "stream",
     "text": [
      "Adding relationships to Neo4j:  35%|███▌      | 227/643 [05:40<10:03,  1.45s/it]"
     ]
    },
    {
     "name": "stdout",
     "output_type": "stream",
     "text": [
      "Skipping departure from 'S Wilhelmsburg' to 'Neuhof (Fähre)' - Destination station does not exist\n",
      "Skipping departure from 'S Wilhelmsburg' to 'Neuhof (Fähre)' - Destination station does not exist\n",
      "Skipping departure from 'S Wilhelmsburg' to 'Neuhof (Fähre)' - Destination station does not exist\n",
      "Skipping departure from 'S Wilhelmsburg' to 'Neuhof (Fähre)' - Destination station does not exist\n",
      "Skipping departure from 'S Wilhelmsburg' to 'Neuhof (Fähre)' - Destination station does not exist\n",
      "Skipping departure from 'S Wilhelmsburg' to 'Neuhof (Fähre)' - Destination station does not exist\n",
      "Skipping departure from 'S Wilhelmsburg' to 'Neuhof (Fähre)' - Destination station does not exist\n"
     ]
    },
    {
     "name": "stderr",
     "output_type": "stream",
     "text": [
      "Adding relationships to Neo4j:  36%|███▌      | 229/643 [05:43<10:53,  1.58s/it]"
     ]
    },
    {
     "name": "stdout",
     "output_type": "stream",
     "text": [
      "Skipping departure from 'Weidendamm' to 'Neuhof (Fähre)' - Destination station does not exist\n",
      "Skipping departure from 'Weidendamm' to 'Neuhof (Fähre)' - Destination station does not exist\n",
      "Skipping departure from 'Weidendamm' to 'Neuhof (Fähre)' - Destination station does not exist\n"
     ]
    },
    {
     "name": "stderr",
     "output_type": "stream",
     "text": [
      "Adding relationships to Neo4j:  36%|███▌      | 230/643 [05:45<10:31,  1.53s/it]"
     ]
    },
    {
     "name": "stdout",
     "output_type": "stream",
     "text": [
      "Skipping departure from 'Friedhof Finkenriek (Eingang)' to 'Neuhof (Fähre)' - Destination station does not exist\n",
      "Skipping departure from 'Friedhof Finkenriek (Eingang)' to 'Neuhof (Fähre)' - Destination station does not exist\n",
      "Skipping departure from 'Weidendamm' to 'Neuhof (Fähre)' - Destination station does not exist\n"
     ]
    },
    {
     "name": "stderr",
     "output_type": "stream",
     "text": [
      "Adding relationships to Neo4j:  42%|████▏     | 268/643 [06:41<09:38,  1.54s/it]"
     ]
    },
    {
     "name": "stdout",
     "output_type": "stream",
     "text": [
      "Skipping departure from 'U Rauhes Haus' to 'U Hammer Kirche (Hammer Landstraße)' - Destination station does not exist\n"
     ]
    },
    {
     "name": "stderr",
     "output_type": "stream",
     "text": [
      "Adding relationships to Neo4j:  43%|████▎     | 277/643 [06:55<09:07,  1.50s/it]"
     ]
    },
    {
     "name": "stdout",
     "output_type": "stream",
     "text": [
      "Skipping departure from 'U Rauhes Haus' to 'U Hammer Kirche (Hammer Landstraße)' - Destination station does not exist\n"
     ]
    },
    {
     "name": "stderr",
     "output_type": "stream",
     "text": [
      "Adding relationships to Neo4j:  53%|█████▎    | 343/643 [08:34<07:50,  1.57s/it]"
     ]
    },
    {
     "name": "stdout",
     "output_type": "stream",
     "text": [
      "Skipping departure from 'Horst (Holst)' to 'Horst (Holst)' - Destination station does not exist\n",
      "Skipping departure from 'Horst (Holst)' to 'Horst (Holst)' - Destination station does not exist\n",
      "Skipping departure from 'Horst (Holst)' to 'Horst (Holst)' - Destination station does not exist\n",
      "Skipping departure from 'Horst (Holst)' to 'Horst (Holst)' - Destination station does not exist\n",
      "Skipping departure from 'Horst (Holst)' to 'Horst (Holst)' - Destination station does not exist\n",
      "Skipping departure from 'Horst (Holst)' to 'Horst (Holst)' - Destination station does not exist\n",
      "Skipping departure from 'Horst (Holst)' to 'Horst (Holst)' - Destination station does not exist\n",
      "Skipping departure from 'Horst (Holst)' to 'Horst (Holst)' - Destination station does not exist\n",
      "Skipping departure from 'Horst (Holst)' to 'Horst (Holst)' - Destination station does not exist\n",
      "Skipping departure from 'Horst (Holst)' to 'Horst (Holst)' - Destination station does not exist\n",
      "Skipping departure from 'Horst (Holst)' to 'Horst (Holst)' - Destination station does not exist\n",
      "Skipping departure from 'Horst (Holst)' to 'Horst (Holst)' - Destination station does not exist\n",
      "Skipping departure from 'Horst (Holst)' to 'Horst (Holst)' - Destination station does not exist\n"
     ]
    },
    {
     "name": "stderr",
     "output_type": "stream",
     "text": [
      "Adding relationships to Neo4j:  53%|█████▎    | 344/643 [08:35<07:33,  1.52s/it]"
     ]
    },
    {
     "name": "stdout",
     "output_type": "stream",
     "text": [
      "Skipping departure from 'Horst (Holst)' to 'Horst (Holst)' - Destination station does not exist\n",
      "Skipping departure from 'Horst (Holst)' to 'Horst (Holst)' - Destination station does not exist\n",
      "Skipping departure from 'Horst (Holst)' to 'Horst (Holst)' - Destination station does not exist\n"
     ]
    },
    {
     "name": "stderr",
     "output_type": "stream",
     "text": [
      "Adding relationships to Neo4j:  67%|██████▋   | 432/643 [10:48<05:04,  1.44s/it]"
     ]
    },
    {
     "name": "stdout",
     "output_type": "stream",
     "text": [
      "Skipping departure from 'Hamburg-Altona' to 'Horst (Holst)' - Destination station does not exist\n"
     ]
    },
    {
     "name": "stderr",
     "output_type": "stream",
     "text": [
      "Adding relationships to Neo4j:  67%|██████▋   | 433/643 [10:49<05:04,  1.45s/it]"
     ]
    },
    {
     "name": "stdout",
     "output_type": "stream",
     "text": [
      "Skipping departure from 'Hamburg-Altona' to 'Horst (Holst)' - Destination station does not exist\n",
      "Skipping departure from 'Hamburg-Altona' to 'Horst (Holst)' - Destination station does not exist\n",
      "Skipping departure from 'Hamburg-Altona' to 'Horst (Holst)' - Destination station does not exist\n"
     ]
    },
    {
     "name": "stderr",
     "output_type": "stream",
     "text": [
      "Adding relationships to Neo4j:  67%|██████▋   | 434/643 [10:51<05:28,  1.57s/it]"
     ]
    },
    {
     "name": "stdout",
     "output_type": "stream",
     "text": [
      "Skipping departure from 'Hamburg-Altona' to 'Horst (Holst)' - Destination station does not exist\n",
      "Skipping departure from 'Hamburg-Altona' to 'Horst (Holst)' - Destination station does not exist\n",
      "Skipping departure from 'Hamburg-Altona' to 'Horst (Holst)' - Destination station does not exist\n",
      "Skipping departure from 'Hamburg-Altona' to 'Horst (Holst)' - Destination station does not exist\n"
     ]
    },
    {
     "name": "stderr",
     "output_type": "stream",
     "text": [
      "Adding relationships to Neo4j:  68%|██████▊   | 435/643 [10:53<05:20,  1.54s/it]"
     ]
    },
    {
     "name": "stdout",
     "output_type": "stream",
     "text": [
      "Skipping departure from 'Hamburg-Altona' to 'Horst (Holst)' - Destination station does not exist\n",
      "Skipping departure from 'Hamburg-Altona' to 'Horst (Holst)' - Destination station does not exist\n",
      "Skipping departure from 'Hamburg-Altona' to 'Horst (Holst)' - Destination station does not exist\n",
      "Skipping departure from 'Hamburg-Altona' to 'Horst (Holst)' - Destination station does not exist\n"
     ]
    },
    {
     "name": "stderr",
     "output_type": "stream",
     "text": [
      "Adding relationships to Neo4j:  68%|██████▊   | 436/643 [10:54<05:14,  1.52s/it]"
     ]
    },
    {
     "name": "stdout",
     "output_type": "stream",
     "text": [
      "Skipping departure from 'Hamburg-Altona' to 'Horst (Holst)' - Destination station does not exist\n",
      "Skipping departure from 'Hamburg-Altona' to 'Horst (Holst)' - Destination station does not exist\n",
      "Skipping departure from 'Hamburg-Altona' to 'Horst (Holst)' - Destination station does not exist\n",
      "Skipping departure from 'Hamburg-Altona' to 'Horst (Holst)' - Destination station does not exist\n"
     ]
    },
    {
     "name": "stderr",
     "output_type": "stream",
     "text": [
      "Adding relationships to Neo4j:  72%|███████▏  | 464/643 [11:36<04:19,  1.45s/it]"
     ]
    },
    {
     "name": "stdout",
     "output_type": "stream",
     "text": [
      "Skipping departure from 'Hamburg-Altona' to 'Horst (Holst)' - Destination station does not exist\n"
     ]
    },
    {
     "name": "stderr",
     "output_type": "stream",
     "text": [
      "Adding relationships to Neo4j:  72%|███████▏  | 465/643 [11:38<04:45,  1.60s/it]"
     ]
    },
    {
     "name": "stdout",
     "output_type": "stream",
     "text": [
      "Skipping departure from 'Hamburg-Altona' to 'Horst (Holst)' - Destination station does not exist\n",
      "Skipping departure from 'Hamburg-Altona' to 'Horst (Holst)' - Destination station does not exist\n",
      "Skipping departure from 'Hamburg-Altona' to 'Horst (Holst)' - Destination station does not exist\n"
     ]
    },
    {
     "name": "stderr",
     "output_type": "stream",
     "text": [
      "Adding relationships to Neo4j:  72%|███████▏  | 466/643 [11:39<04:37,  1.57s/it]"
     ]
    },
    {
     "name": "stdout",
     "output_type": "stream",
     "text": [
      "Skipping departure from 'Hamburg-Altona' to 'Horst (Holst)' - Destination station does not exist\n",
      "Skipping departure from 'Hamburg-Altona' to 'Horst (Holst)' - Destination station does not exist\n",
      "Skipping departure from 'Hamburg-Altona' to 'Horst (Holst)' - Destination station does not exist\n"
     ]
    },
    {
     "name": "stderr",
     "output_type": "stream",
     "text": [
      "Adding relationships to Neo4j:  73%|███████▎  | 467/643 [11:41<04:27,  1.52s/it]"
     ]
    },
    {
     "name": "stdout",
     "output_type": "stream",
     "text": [
      "Skipping departure from 'Hamburg-Altona' to 'Horst (Holst)' - Destination station does not exist\n",
      "Skipping departure from 'Hamburg-Altona' to 'Horst (Holst)' - Destination station does not exist\n",
      "Skipping departure from 'Hamburg-Altona' to 'Horst (Holst)' - Destination station does not exist\n"
     ]
    },
    {
     "name": "stderr",
     "output_type": "stream",
     "text": [
      "Adding relationships to Neo4j:  73%|███████▎  | 468/643 [11:42<04:22,  1.50s/it]"
     ]
    },
    {
     "name": "stdout",
     "output_type": "stream",
     "text": [
      "Skipping departure from 'Hamburg-Altona' to 'Horst (Holst)' - Destination station does not exist\n",
      "Skipping departure from 'Hamburg-Altona' to 'Horst (Holst)' - Destination station does not exist\n",
      "Skipping departure from 'Hamburg-Altona' to 'Horst (Holst)' - Destination station does not exist\n"
     ]
    },
    {
     "name": "stderr",
     "output_type": "stream",
     "text": [
      "Adding relationships to Neo4j:  73%|███████▎  | 469/643 [11:44<04:18,  1.49s/it]"
     ]
    },
    {
     "name": "stdout",
     "output_type": "stream",
     "text": [
      "Skipping departure from 'Hamburg-Altona' to 'Horst (Holst)' - Destination station does not exist\n",
      "Skipping departure from 'Hamburg-Altona' to 'Horst (Holst)' - Destination station does not exist\n",
      "Skipping departure from 'Hamburg-Altona' to 'Horst (Holst)' - Destination station does not exist\n"
     ]
    },
    {
     "name": "stderr",
     "output_type": "stream",
     "text": [
      "Adding relationships to Neo4j:  97%|█████████▋| 626/643 [15:39<00:26,  1.56s/it]"
     ]
    },
    {
     "name": "stdout",
     "output_type": "stream",
     "text": [
      "Skipping departure from 'Nincoper Straße 160' to 'Rübke, Nincoper Deich (Kehre)' - Destination station does not exist\n",
      "Skipping departure from 'Hamburg Dammtor' to 'Horst (Holst)' - Destination station does not exist\n",
      "Skipping departure from 'Nincoper Straße 160' to 'Rübke, Nincoper Deich (Kehre)' - Destination station does not exist\n",
      "Skipping departure from 'Nincoper Straße 160' to 'Rübke, Nincoper Deich (Kehre)' - Destination station does not exist\n",
      "Skipping departure from 'Nincoper Straße 160' to 'Rübke, Nincoper Deich (Kehre)' - Destination station does not exist\n",
      "Skipping departure from 'Nincoper Straße 160' to 'Rübke, Nincoper Deich (Kehre)' - Destination station does not exist\n",
      "Skipping departure from 'Bf. Harburg (Großmoordamm)' to 'Neuhof (Fähre)' - Destination station does not exist\n",
      "Skipping departure from 'Nincoper Straße 160' to 'Rübke, Nincoper Deich (Kehre)' - Destination station does not exist\n",
      "Skipping departure from 'Bf. Harburg (Großmoordamm)' to 'Neuhof (Fähre)' - Destination station does not exist\n"
     ]
    },
    {
     "name": "stderr",
     "output_type": "stream",
     "text": [
      "Adding relationships to Neo4j:  98%|█████████▊| 627/643 [15:40<00:24,  1.54s/it]"
     ]
    },
    {
     "name": "stdout",
     "output_type": "stream",
     "text": [
      "Skipping departure from 'Nincoper Straße 160' to 'Rübke, Nincoper Deich (Kehre)' - Destination station does not exist\n",
      "Skipping departure from 'Bf. Harburg (Großmoordamm)' to 'Neuhof (Fähre)' - Destination station does not exist\n",
      "Skipping departure from 'Nincoper Straße 160' to 'Rübke, Nincoper Deich (Kehre)' - Destination station does not exist\n",
      "Skipping departure from 'Bf. Harburg (Großmoordamm)' to 'Neuhof (Fähre)' - Destination station does not exist\n",
      "Skipping departure from 'Nincoper Straße 160' to 'Rübke, Nincoper Deich (Kehre)' - Destination station does not exist\n",
      "Skipping departure from 'Nincoper Straße 160' to 'Rübke, Nincoper Deich (Kehre)' - Destination station does not exist\n",
      "Skipping departure from 'Nincoper Straße 160' to 'Rübke, Nincoper Deich (Kehre)' - Destination station does not exist\n",
      "Skipping departure from 'Nincoper Straße 160' to 'Rübke, Nincoper Deich (Kehre)' - Destination station does not exist\n"
     ]
    },
    {
     "name": "stderr",
     "output_type": "stream",
     "text": [
      "Adding relationships to Neo4j:  98%|█████████▊| 628/643 [15:42<00:22,  1.53s/it]"
     ]
    },
    {
     "name": "stdout",
     "output_type": "stream",
     "text": [
      "Skipping departure from 'Nincoper Straße 160' to 'Rübke, Nincoper Deich (Kehre)' - Destination station does not exist\n",
      "Skipping departure from 'Nincoper Straße 160' to 'Rübke, Nincoper Deich (Kehre)' - Destination station does not exist\n",
      "Skipping departure from 'Nincoper Straße 160' to 'Rübke, Nincoper Deich (Kehre)' - Destination station does not exist\n",
      "Skipping departure from 'Nincoper Straße 160' to 'Rübke, Nincoper Deich (Kehre)' - Destination station does not exist\n",
      "Skipping departure from 'Nincoper Straße 160' to 'Rübke, Nincoper Deich (Kehre)' - Destination station does not exist\n"
     ]
    },
    {
     "name": "stderr",
     "output_type": "stream",
     "text": [
      "Adding relationships to Neo4j:  98%|█████████▊| 629/643 [15:43<00:21,  1.50s/it]"
     ]
    },
    {
     "name": "stdout",
     "output_type": "stream",
     "text": [
      "Skipping departure from 'Hamburg-Altona' to 'Horst (Holst)' - Destination station does not exist\n",
      "Skipping departure from 'Hamburg-Altona' to 'Horst (Holst)' - Destination station does not exist\n"
     ]
    },
    {
     "name": "stderr",
     "output_type": "stream",
     "text": [
      "Adding relationships to Neo4j:  98%|█████████▊| 630/643 [15:45<00:19,  1.49s/it]"
     ]
    },
    {
     "name": "stdout",
     "output_type": "stream",
     "text": [
      "Skipping departure from 'Hamburg-Altona' to 'Horst (Holst)' - Destination station does not exist\n",
      "Skipping departure from 'Hamburg-Altona' to 'Horst (Holst)' - Destination station does not exist\n",
      "Skipping departure from 'Hamburg-Altona' to 'Horst (Holst)' - Destination station does not exist\n",
      "Skipping departure from 'Hamburg-Altona' to 'Horst (Holst)' - Destination station does not exist\n"
     ]
    },
    {
     "name": "stderr",
     "output_type": "stream",
     "text": [
      "Adding relationships to Neo4j:  98%|█████████▊| 631/643 [15:46<00:17,  1.49s/it]"
     ]
    },
    {
     "name": "stdout",
     "output_type": "stream",
     "text": [
      "Skipping departure from 'Hamburg-Altona' to 'Horst (Holst)' - Destination station does not exist\n",
      "Skipping departure from 'Hamburg-Altona' to 'Horst (Holst)' - Destination station does not exist\n",
      "Skipping departure from 'Hamburg-Altona' to 'Horst (Holst)' - Destination station does not exist\n"
     ]
    },
    {
     "name": "stderr",
     "output_type": "stream",
     "text": [
      "Adding relationships to Neo4j:  98%|█████████▊| 632/643 [15:48<00:17,  1.62s/it]"
     ]
    },
    {
     "name": "stdout",
     "output_type": "stream",
     "text": [
      "Skipping departure from 'Hamburg-Altona' to 'Horst (Holst)' - Destination station does not exist\n",
      "Skipping departure from 'Hamburg-Altona' to 'Horst (Holst)' - Destination station does not exist\n",
      "Skipping departure from 'Hamburg-Altona' to 'Horst (Holst)' - Destination station does not exist\n"
     ]
    },
    {
     "name": "stderr",
     "output_type": "stream",
     "text": [
      "Adding relationships to Neo4j:  98%|█████████▊| 633/643 [15:50<00:15,  1.58s/it]"
     ]
    },
    {
     "name": "stdout",
     "output_type": "stream",
     "text": [
      "Skipping departure from 'Hamburg-Altona' to 'Horst (Holst)' - Destination station does not exist\n",
      "Skipping departure from 'Hamburg-Altona' to 'Horst (Holst)' - Destination station does not exist\n",
      "Skipping departure from 'Hamburg-Altona' to 'Horst (Holst)' - Destination station does not exist\n",
      "Skipping departure from 'Hamburg-Altona' to 'Horst (Holst)' - Destination station does not exist\n"
     ]
    },
    {
     "name": "stderr",
     "output_type": "stream",
     "text": [
      "Adding relationships to Neo4j: 100%|██████████| 643/643 [16:03<00:00,  1.50s/it]"
     ]
    },
    {
     "name": "stdout",
     "output_type": "stream",
     "text": [
      "WARNING: Skipped 248 departures:\n",
      "  - 248 due to missing destination stations\n",
      "Creating additional indexes for optimized querying...\n",
      "Relationship creation complete!\n"
     ]
    },
    {
     "name": "stderr",
     "output_type": "stream",
     "text": [
      "\n"
     ]
    }
   ],
   "source": [
    "# Execute the query\n",
    "with driver.session() as session:\n",
    "    add_station_relationships(processed_data, session)\n",
    "\n",
    "driver.close()"
   ]
  }
 ],
 "metadata": {
  "kernelspec": {
   "display_name": "py310",
   "language": "python",
   "name": "python3"
  },
  "language_info": {
   "codemirror_mode": {
    "name": "ipython",
    "version": 3
   },
   "file_extension": ".py",
   "mimetype": "text/x-python",
   "name": "python",
   "nbconvert_exporter": "python",
   "pygments_lexer": "ipython3",
   "version": "3.10.16"
  }
 },
 "nbformat": 4,
 "nbformat_minor": 2
}
