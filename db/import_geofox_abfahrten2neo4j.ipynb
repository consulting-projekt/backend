{
 "cells": [
  {
   "cell_type": "code",
   "execution_count": 7,
   "metadata": {},
   "outputs": [],
   "source": [
    "import neo4j\n",
    "import pandas as pd\n",
    "from utils_neo4j import init, add_station_relationships\n",
    "import pandas as pd\n",
    "import ast"
   ]
  },
  {
   "cell_type": "code",
   "execution_count": 2,
   "metadata": {},
   "outputs": [],
   "source": [
    "NEO4J_URI = \"bolt://localhost:7689\"\n",
    "NEO4J_USER = \"neo4j\"\n",
    "NEO4J_PASSWORD = \"busticket123\"\n",
    "\n",
    "driver = neo4j.GraphDatabase.driver(NEO4J_URI, auth=(NEO4J_USER, NEO4J_PASSWORD))\n",
    "init(driver)"
   ]
  },
  {
   "cell_type": "code",
   "execution_count": 3,
   "metadata": {},
   "outputs": [],
   "source": [
    "# load departures preproc from json\n",
    "departures_preproc = pd.read_csv(\"data_geofox/departures_all_preproc2.csv\")"
   ]
  },
  {
   "cell_type": "code",
   "execution_count": 8,
   "metadata": {},
   "outputs": [],
   "source": [
    "# Convert departure_times from string to list\n",
    "if 'departure_times' in departures_preproc.columns:\n",
    "    departures_preproc['departure_times'] = departures_preproc['departure_times'].apply(\n",
    "        lambda x: ast.literal_eval(x) if isinstance(x, str) else x\n",
    "    )\n",
    "\n",
    "# Convert arrival_times from string to list\n",
    "if 'arrival_times' in departures_preproc.columns:\n",
    "    departures_preproc['arrival_times'] = departures_preproc['arrival_times'].apply(\n",
    "        lambda x: ast.literal_eval(x) if isinstance(x, str) else x\n",
    "    )"
   ]
  },
  {
   "cell_type": "code",
   "execution_count": 9,
   "metadata": {},
   "outputs": [
    {
     "data": {
      "text/html": [
       "<div>\n",
       "<style scoped>\n",
       "    .dataframe tbody tr th:only-of-type {\n",
       "        vertical-align: middle;\n",
       "    }\n",
       "\n",
       "    .dataframe tbody tr th {\n",
       "        vertical-align: top;\n",
       "    }\n",
       "\n",
       "    .dataframe thead th {\n",
       "        text-align: right;\n",
       "    }\n",
       "</style>\n",
       "<table border=\"1\" class=\"dataframe\">\n",
       "  <thead>\n",
       "    <tr style=\"text-align: right;\">\n",
       "      <th></th>\n",
       "      <th>from_station</th>\n",
       "      <th>from_station_id</th>\n",
       "      <th>to_station</th>\n",
       "      <th>line_unique</th>\n",
       "      <th>line_name</th>\n",
       "      <th>line_info</th>\n",
       "      <th>departure_times</th>\n",
       "      <th>arrival_times</th>\n",
       "      <th>duration</th>\n",
       "    </tr>\n",
       "  </thead>\n",
       "  <tbody>\n",
       "    <tr>\n",
       "      <th>0</th>\n",
       "      <td>A Burgwedel</td>\n",
       "      <td>Master:86007</td>\n",
       "      <td>Basselweg</td>\n",
       "      <td>HHA-B:603_HHA-B#Grothwisch#Rathausmarkt#1</td>\n",
       "      <td>603</td>\n",
       "      <td>Niederflur-Nachtbus</td>\n",
       "      <td>[2025-04-03 01:02:00]</td>\n",
       "      <td>[2025-04-03 01:03:00]</td>\n",
       "      <td>1</td>\n",
       "    </tr>\n",
       "    <tr>\n",
       "      <th>1</th>\n",
       "      <td>A Burgwedel</td>\n",
       "      <td>Master:86007</td>\n",
       "      <td>Freizeitbad Bondenwald</td>\n",
       "      <td>HHA-B:5_HHA-B#A Burgwedel#Hauptbahnhof/ZOB#1</td>\n",
       "      <td>5</td>\n",
       "      <td>Niederflur Metrobus</td>\n",
       "      <td>[2025-04-03 07:05:00, 2025-04-03 07:15:00, 202...</td>\n",
       "      <td>[2025-04-03 07:06:00, 2025-04-03 07:16:00, 202...</td>\n",
       "      <td>1</td>\n",
       "    </tr>\n",
       "    <tr>\n",
       "      <th>2</th>\n",
       "      <td>A Burgwedel</td>\n",
       "      <td>Master:86007</td>\n",
       "      <td>Graf-Otto-Weg</td>\n",
       "      <td>HHA-B:603_HHA-B#Rathausmarkt#Grothwisch#6</td>\n",
       "      <td>603</td>\n",
       "      <td>Niederflur-Nachtbus</td>\n",
       "      <td>[2025-04-03 01:56:00, 2025-04-03 02:26:00, 202...</td>\n",
       "      <td>[2025-04-03 01:57:00, 2025-04-03 02:27:00, 202...</td>\n",
       "      <td>1</td>\n",
       "    </tr>\n",
       "    <tr>\n",
       "      <th>3</th>\n",
       "      <td>A Eidelstedt Zentrum</td>\n",
       "      <td>Master:83013</td>\n",
       "      <td>Behrmannplatz</td>\n",
       "      <td>VHH:281_VHH#S Krupunder#U Lattenkamp#1</td>\n",
       "      <td>281</td>\n",
       "      <td>Niederflur Stadtbus</td>\n",
       "      <td>[2025-04-03 07:26:00, 2025-04-03 07:46:00, 202...</td>\n",
       "      <td>[2025-04-03 07:27:00, 2025-04-03 07:48:00, 202...</td>\n",
       "      <td>1</td>\n",
       "    </tr>\n",
       "    <tr>\n",
       "      <th>4</th>\n",
       "      <td>A Eidelstedt Zentrum</td>\n",
       "      <td>Master:83013</td>\n",
       "      <td>Behrmannplatz</td>\n",
       "      <td>VHH:281_VHH#UK Eppendorf (Haupteingang)#S Krup...</td>\n",
       "      <td>281</td>\n",
       "      <td>Niederflur Stadtbus</td>\n",
       "      <td>[2025-04-03 07:22:00, 2025-04-03 07:42:00, 202...</td>\n",
       "      <td>[2025-04-03 07:23:00, 2025-04-03 07:43:00, 202...</td>\n",
       "      <td>1</td>\n",
       "    </tr>\n",
       "    <tr>\n",
       "      <th>...</th>\n",
       "      <td>...</td>\n",
       "      <td>...</td>\n",
       "      <td>...</td>\n",
       "      <td>...</td>\n",
       "      <td>...</td>\n",
       "      <td>...</td>\n",
       "      <td>...</td>\n",
       "      <td>...</td>\n",
       "      <td>...</td>\n",
       "    </tr>\n",
       "    <tr>\n",
       "      <th>23803</th>\n",
       "      <td>Überseering (West)</td>\n",
       "      <td>Master:70017</td>\n",
       "      <td>Goebenstraße</td>\n",
       "      <td>HHA-B:20_HHA-B#S Rübenkamp#Bf. Altona#6</td>\n",
       "      <td>20</td>\n",
       "      <td>Niederflur Metrobus</td>\n",
       "      <td>[2025-04-03 09:15:00, 2025-04-03 09:25:00, 202...</td>\n",
       "      <td>[2025-04-03 09:16:00, 2025-04-03 09:26:00, 202...</td>\n",
       "      <td>1</td>\n",
       "    </tr>\n",
       "    <tr>\n",
       "      <th>23804</th>\n",
       "      <td>Überseering (West)</td>\n",
       "      <td>Master:70017</td>\n",
       "      <td>Heinrich-Traun-Platz</td>\n",
       "      <td>HHA-B:179_HHA-B#U Borgweg#S Poppenbüttel (Went...</td>\n",
       "      <td>179</td>\n",
       "      <td>Niederflur Stadtbus</td>\n",
       "      <td>[2025-04-03 19:30:00]</td>\n",
       "      <td>[2025-04-03 19:31:00]</td>\n",
       "      <td>1</td>\n",
       "    </tr>\n",
       "    <tr>\n",
       "      <th>23805</th>\n",
       "      <td>Überseering (West)</td>\n",
       "      <td>Master:70017</td>\n",
       "      <td>Jahnring (Mitte)</td>\n",
       "      <td>HHA-B:20_HHA-B#S Rübenkamp#Winterhuder Marktpl...</td>\n",
       "      <td>20</td>\n",
       "      <td>Niederflur Metrobus</td>\n",
       "      <td>[2025-04-03 23:59:00]</td>\n",
       "      <td>[2025-04-04 00:00:00]</td>\n",
       "      <td>1</td>\n",
       "    </tr>\n",
       "    <tr>\n",
       "      <th>23806</th>\n",
       "      <td>Überseering (West)</td>\n",
       "      <td>Master:70017</td>\n",
       "      <td>Kottwitzstraße</td>\n",
       "      <td>HHA-B:20_HHA-B#Bf. Altona#S Rübenkamp#1</td>\n",
       "      <td>20</td>\n",
       "      <td>Niederflur Metrobus</td>\n",
       "      <td>[2025-04-03 06:54:00, 2025-04-03 07:04:00, 202...</td>\n",
       "      <td>[2025-04-03 06:55:00, 2025-04-03 07:05:00, 202...</td>\n",
       "      <td>1</td>\n",
       "    </tr>\n",
       "    <tr>\n",
       "      <th>23807</th>\n",
       "      <td>Überseering (West)</td>\n",
       "      <td>Master:70017</td>\n",
       "      <td>Ohlsdorfer Straße (Planetarium)</td>\n",
       "      <td>HHA-B:20_HHA-B#S Rübenkamp#Gärtnerstraße#6</td>\n",
       "      <td>20</td>\n",
       "      <td>Niederflur Metrobus</td>\n",
       "      <td>[2025-04-03 21:26:00]</td>\n",
       "      <td>[2025-04-03 21:28:00]</td>\n",
       "      <td>2</td>\n",
       "    </tr>\n",
       "  </tbody>\n",
       "</table>\n",
       "<p>23808 rows × 9 columns</p>\n",
       "</div>"
      ],
      "text/plain": [
       "               from_station from_station_id                       to_station  \\\n",
       "0               A Burgwedel    Master:86007                        Basselweg   \n",
       "1               A Burgwedel    Master:86007           Freizeitbad Bondenwald   \n",
       "2               A Burgwedel    Master:86007                    Graf-Otto-Weg   \n",
       "3      A Eidelstedt Zentrum    Master:83013                    Behrmannplatz   \n",
       "4      A Eidelstedt Zentrum    Master:83013                    Behrmannplatz   \n",
       "...                     ...             ...                              ...   \n",
       "23803    Überseering (West)    Master:70017                     Goebenstraße   \n",
       "23804    Überseering (West)    Master:70017             Heinrich-Traun-Platz   \n",
       "23805    Überseering (West)    Master:70017                 Jahnring (Mitte)   \n",
       "23806    Überseering (West)    Master:70017                   Kottwitzstraße   \n",
       "23807    Überseering (West)    Master:70017  Ohlsdorfer Straße (Planetarium)   \n",
       "\n",
       "                                             line_unique line_name  \\\n",
       "0              HHA-B:603_HHA-B#Grothwisch#Rathausmarkt#1       603   \n",
       "1           HHA-B:5_HHA-B#A Burgwedel#Hauptbahnhof/ZOB#1         5   \n",
       "2              HHA-B:603_HHA-B#Rathausmarkt#Grothwisch#6       603   \n",
       "3                 VHH:281_VHH#S Krupunder#U Lattenkamp#1       281   \n",
       "4      VHH:281_VHH#UK Eppendorf (Haupteingang)#S Krup...       281   \n",
       "...                                                  ...       ...   \n",
       "23803            HHA-B:20_HHA-B#S Rübenkamp#Bf. Altona#6        20   \n",
       "23804  HHA-B:179_HHA-B#U Borgweg#S Poppenbüttel (Went...       179   \n",
       "23805  HHA-B:20_HHA-B#S Rübenkamp#Winterhuder Marktpl...        20   \n",
       "23806            HHA-B:20_HHA-B#Bf. Altona#S Rübenkamp#1        20   \n",
       "23807         HHA-B:20_HHA-B#S Rübenkamp#Gärtnerstraße#6        20   \n",
       "\n",
       "                 line_info                                    departure_times  \\\n",
       "0      Niederflur-Nachtbus                              [2025-04-03 01:02:00]   \n",
       "1      Niederflur Metrobus  [2025-04-03 07:05:00, 2025-04-03 07:15:00, 202...   \n",
       "2      Niederflur-Nachtbus  [2025-04-03 01:56:00, 2025-04-03 02:26:00, 202...   \n",
       "3      Niederflur Stadtbus  [2025-04-03 07:26:00, 2025-04-03 07:46:00, 202...   \n",
       "4      Niederflur Stadtbus  [2025-04-03 07:22:00, 2025-04-03 07:42:00, 202...   \n",
       "...                    ...                                                ...   \n",
       "23803  Niederflur Metrobus  [2025-04-03 09:15:00, 2025-04-03 09:25:00, 202...   \n",
       "23804  Niederflur Stadtbus                              [2025-04-03 19:30:00]   \n",
       "23805  Niederflur Metrobus                              [2025-04-03 23:59:00]   \n",
       "23806  Niederflur Metrobus  [2025-04-03 06:54:00, 2025-04-03 07:04:00, 202...   \n",
       "23807  Niederflur Metrobus                              [2025-04-03 21:26:00]   \n",
       "\n",
       "                                           arrival_times  duration  \n",
       "0                                  [2025-04-03 01:03:00]         1  \n",
       "1      [2025-04-03 07:06:00, 2025-04-03 07:16:00, 202...         1  \n",
       "2      [2025-04-03 01:57:00, 2025-04-03 02:27:00, 202...         1  \n",
       "3      [2025-04-03 07:27:00, 2025-04-03 07:48:00, 202...         1  \n",
       "4      [2025-04-03 07:23:00, 2025-04-03 07:43:00, 202...         1  \n",
       "...                                                  ...       ...  \n",
       "23803  [2025-04-03 09:16:00, 2025-04-03 09:26:00, 202...         1  \n",
       "23804                              [2025-04-03 19:31:00]         1  \n",
       "23805                              [2025-04-04 00:00:00]         1  \n",
       "23806  [2025-04-03 06:55:00, 2025-04-03 07:05:00, 202...         1  \n",
       "23807                              [2025-04-03 21:28:00]         2  \n",
       "\n",
       "[23808 rows x 9 columns]"
      ]
     },
     "execution_count": 9,
     "metadata": {},
     "output_type": "execute_result"
    }
   ],
   "source": [
    "departures_preproc"
   ]
  },
  {
   "cell_type": "code",
   "execution_count": 10,
   "metadata": {},
   "outputs": [],
   "source": [
    "processed_data = departures_preproc.to_dict('records')"
   ]
  },
  {
   "cell_type": "code",
   "execution_count": 11,
   "metadata": {},
   "outputs": [
    {
     "name": "stderr",
     "output_type": "stream",
     "text": [
      "C:\\Users\\paul-\\AppData\\Local\\Temp\\ipykernel_9844\\2045833411.py:2: DeprecationWarning: Using a driver after it has been closed is deprecated. Future versions of the driver will raise an error.\n",
      "  with driver.session() as session:\n"
     ]
    },
    {
     "name": "stdout",
     "output_type": "stream",
     "text": [
      "Adding 23808 consolidated relationships to Neo4j...\n"
     ]
    },
    {
     "name": "stderr",
     "output_type": "stream",
     "text": [
      "Adding relationships to Neo4j:  12%|█▏        | 28/239 [00:05<00:35,  5.96it/s]"
     ]
    },
    {
     "name": "stdout",
     "output_type": "stream",
     "text": [
      "Skipping relationship from 'Bf. Harburg (Großmoordamm)' to 'Neuhof (Fähre)' - Destination station does not exist\n"
     ]
    },
    {
     "name": "stderr",
     "output_type": "stream",
     "text": [
      "Adding relationships to Neo4j:  34%|███▍      | 81/239 [00:14<00:25,  6.26it/s]"
     ]
    },
    {
     "name": "stdout",
     "output_type": "stream",
     "text": [
      "Skipping relationship from 'Hamburg-Altona' to 'Horst (Holst)' - Destination station does not exist\n"
     ]
    },
    {
     "name": "stderr",
     "output_type": "stream",
     "text": [
      "Adding relationships to Neo4j:  41%|████▏     | 99/239 [00:17<00:20,  6.92it/s]"
     ]
    },
    {
     "name": "stdout",
     "output_type": "stream",
     "text": [
      "Skipping relationship from 'Hübbesweg' to 'U Hammer Kirche (Hammer Landstraße)' - Destination station does not exist\n"
     ]
    },
    {
     "name": "stderr",
     "output_type": "stream",
     "text": [
      "Adding relationships to Neo4j:  42%|████▏     | 101/239 [00:17<00:21,  6.56it/s]"
     ]
    },
    {
     "name": "stdout",
     "output_type": "stream",
     "text": [
      "Skipping relationship from 'Inselpark' to 'Neuhof (Fähre)' - Destination station does not exist\n",
      "Skipping relationship from 'Inselpark' to 'Neuhof (Fähre)' - Destination station does not exist\n"
     ]
    },
    {
     "name": "stderr",
     "output_type": "stream",
     "text": [
      "Adding relationships to Neo4j:  44%|████▍     | 105/239 [00:18<00:21,  6.22it/s]"
     ]
    },
    {
     "name": "stdout",
     "output_type": "stream",
     "text": [
      "Skipping relationship from 'Kaltehofe-Hinterdeich' to 'U Hammer Kirche (Hammer Landstraße)' - Destination station does not exist\n"
     ]
    },
    {
     "name": "stderr",
     "output_type": "stream",
     "text": [
      "Adding relationships to Neo4j:  47%|████▋     | 113/239 [00:19<00:18,  6.73it/s]"
     ]
    },
    {
     "name": "stdout",
     "output_type": "stream",
     "text": [
      "Skipping relationship from 'Knoopstraße/Bremer Straße' to 'Neuhof (Fähre)' - Destination station does not exist\n"
     ]
    },
    {
     "name": "stderr",
     "output_type": "stream",
     "text": [
      "Adding relationships to Neo4j:  61%|██████    | 146/239 [00:24<00:13,  6.74it/s]"
     ]
    },
    {
     "name": "stdout",
     "output_type": "stream",
     "text": [
      "Skipping relationship from 'Nincoper Straße 160' to 'Rübke, Nincoper Deich (Kehre)' - Destination station does not exist\n",
      "Skipping relationship from 'Nincoper Straße 160' to 'Rübke, Nincoper Deich (Kehre)' - Destination station does not exist\n",
      "Skipping relationship from 'Nippoldstraße (West)' to 'Neuhof (Fähre)' - Destination station does not exist\n",
      "Skipping relationship from 'Nippoldstraße (West)' to 'Neuhof (Fähre)' - Destination station does not exist\n"
     ]
    },
    {
     "name": "stderr",
     "output_type": "stream",
     "text": [
      "Adding relationships to Neo4j:  70%|███████   | 168/239 [00:27<00:10,  6.94it/s]"
     ]
    },
    {
     "name": "stdout",
     "output_type": "stream",
     "text": [
      "Skipping relationship from 'Roßweg/HDW' to 'Neuhof (Fähre)' - Destination station does not exist\n",
      "Skipping relationship from 'Roßweg/HDW' to 'Neuhof (Fähre)' - Destination station does not exist\n",
      "Skipping relationship from 'Roßweg/HDW' to 'Neuhof (Fähre)' - Destination station does not exist\n"
     ]
    },
    {
     "name": "stderr",
     "output_type": "stream",
     "text": [
      "Adding relationships to Neo4j:  75%|███████▍  | 179/239 [00:29<00:08,  7.02it/s]"
     ]
    },
    {
     "name": "stdout",
     "output_type": "stream",
     "text": [
      "Skipping relationship from 'S Wilhelmsburg' to 'Neuhof (Fähre)' - Destination station does not exist\n"
     ]
    },
    {
     "name": "stderr",
     "output_type": "stream",
     "text": [
      "Adding relationships to Neo4j:  78%|███████▊  | 187/239 [00:30<00:07,  6.98it/s]"
     ]
    },
    {
     "name": "stdout",
     "output_type": "stream",
     "text": [
      "Skipping relationship from 'Schwentnerring' to 'Neuhof (Fähre)' - Destination station does not exist\n",
      "Skipping relationship from 'Schwentnerring' to 'Neuhof (Fähre)' - Destination station does not exist\n"
     ]
    },
    {
     "name": "stderr",
     "output_type": "stream",
     "text": [
      "Adding relationships to Neo4j:  87%|████████▋ | 209/239 [00:33<00:04,  6.86it/s]"
     ]
    },
    {
     "name": "stdout",
     "output_type": "stream",
     "text": [
      "Skipping relationship from 'U Burgstraße' to 'U Hammer Kirche (Hammer Landstraße)' - Destination station does not exist\n"
     ]
    },
    {
     "name": "stderr",
     "output_type": "stream",
     "text": [
      "Adding relationships to Neo4j:  89%|████████▊ | 212/239 [00:34<00:04,  6.60it/s]"
     ]
    },
    {
     "name": "stdout",
     "output_type": "stream",
     "text": [
      "Skipping relationship from 'U Hammer Kirche' to 'U Hammer Kirche (Hammer Landstraße)' - Destination station does not exist\n",
      "Skipping relationship from 'U Hammer Kirche' to 'U Hammer Kirche (Hammer Landstraße)' - Destination station does not exist\n",
      "Skipping relationship from 'U Hammer Kirche' to 'U Hammer Kirche (Hammer Landstraße)' - Destination station does not exist\n",
      "Skipping relationship from 'U Hammer Kirche' to 'U Hammer Kirche (Hammer Landstraße)' - Destination station does not exist\n",
      "Skipping relationship from 'U Hammer Kirche' to 'U Hammer Kirche (Hammer Landstraße)' - Destination station does not exist\n"
     ]
    },
    {
     "name": "stderr",
     "output_type": "stream",
     "text": [
      "Adding relationships to Neo4j:  90%|████████▉ | 215/239 [00:34<00:03,  6.92it/s]"
     ]
    },
    {
     "name": "stdout",
     "output_type": "stream",
     "text": [
      "Skipping relationship from 'U Rauhes Haus' to 'U Hammer Kirche (Hammer Landstraße)' - Destination station does not exist\n"
     ]
    },
    {
     "name": "stderr",
     "output_type": "stream",
     "text": [
      "Adding relationships to Neo4j:  96%|█████████▌| 229/239 [00:36<00:01,  6.29it/s]"
     ]
    },
    {
     "name": "stdout",
     "output_type": "stream",
     "text": [
      "Skipping relationship from 'Weidendamm' to 'Neuhof (Fähre)' - Destination station does not exist\n"
     ]
    },
    {
     "name": "stderr",
     "output_type": "stream",
     "text": [
      "Adding relationships to Neo4j: 100%|██████████| 239/239 [00:38<00:00,  6.27it/s]"
     ]
    },
    {
     "name": "stdout",
     "output_type": "stream",
     "text": [
      "WARNING: Skipped 25 relationships:\n",
      "  - 25 due to missing destination stations\n",
      "Creating additional indexes for optimized querying...\n",
      "Relationship creation complete!\n"
     ]
    },
    {
     "name": "stderr",
     "output_type": "stream",
     "text": [
      "\n"
     ]
    }
   ],
   "source": [
    "# Execute the query\n",
    "with driver.session() as session:\n",
    "    add_station_relationships(processed_data, session)\n",
    "\n",
    "driver.close()"
   ]
  }
 ],
 "metadata": {
  "kernelspec": {
   "display_name": "py310",
   "language": "python",
   "name": "python3"
  },
  "language_info": {
   "codemirror_mode": {
    "name": "ipython",
    "version": 3
   },
   "file_extension": ".py",
   "mimetype": "text/x-python",
   "name": "python",
   "nbconvert_exporter": "python",
   "pygments_lexer": "ipython3",
   "version": "3.10.16"
  }
 },
 "nbformat": 4,
 "nbformat_minor": 2
}
