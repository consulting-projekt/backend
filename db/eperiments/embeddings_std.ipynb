{
 "cells": [
  {
   "cell_type": "code",
   "execution_count": 7,
   "id": "c11c0397",
   "metadata": {},
   "outputs": [],
   "source": [
    "import neo4j\n",
    "import pandas as pd\n",
    "import sys\n",
    "sys.path.append(\"../\")\n",
    "from utils_embeddings import load_embedding_model_std"
   ]
  },
  {
   "cell_type": "code",
   "execution_count": 8,
   "id": "59f0890f",
   "metadata": {},
   "outputs": [],
   "source": [
    "NEO4J_URI = \"bolt://localhost:7689\"\n",
    "NEO4J_USER = \"neo4j\"\n",
    "NEO4J_PASSWORD = \"busticket123\"\n",
    "\n",
    "driver = neo4j.GraphDatabase.driver(NEO4J_URI, auth=(NEO4J_USER, NEO4J_PASSWORD))"
   ]
  },
  {
   "cell_type": "code",
   "execution_count": 9,
   "id": "5c4885cd",
   "metadata": {},
   "outputs": [
    {
     "name": "stdout",
     "output_type": "stream",
     "text": [
      "Loading embedding model: paraphrase-multilingual-MiniLM-L12-v2\n"
     ]
    }
   ],
   "source": [
    "model = load_embedding_model_std()"
   ]
  },
  {
   "cell_type": "code",
   "execution_count": 10,
   "id": "e5f74ef4",
   "metadata": {},
   "outputs": [],
   "source": [
    "# Generate embedding for our search query\n",
    "search_query = \"Richtung Hamburger Innenstadt\"\n",
    "query_embedding = model.encode(search_query).tolist()"
   ]
  },
  {
   "cell_type": "code",
   "execution_count": 11,
   "id": "e73e19b1",
   "metadata": {},
   "outputs": [],
   "source": [
    "def search_similar_entities(driver, query_embedding, search_field=\"name\", limit=10):\n",
    "    \"\"\"\n",
    "    Search for POIs and AOIs similar to the query embedding.\n",
    "    \n",
    "    Args:\n",
    "        driver: Neo4j driver instance\n",
    "        query_embedding: Vector embedding of the search query\n",
    "        search_field: Which field to search in (\"name\", \"description\", or \"tags\")\n",
    "        limit: Maximum number of results to return\n",
    "    \n",
    "    Returns:\n",
    "        DataFrame containing the search results\n",
    "    \"\"\"\n",
    "    with driver.session() as session:\n",
    "        if search_field == \"tags\":\n",
    "            # For tags search - process multiple tag embeddings\n",
    "            search_query = \"\"\"\n",
    "            MATCH (n:POI|AOI)\n",
    "            WHERE n.embeddings_json IS NOT NULL\n",
    "            \n",
    "            // Parse the JSON structure\n",
    "            WITH n, apoc.convert.fromJsonMap(n.embeddings_json) AS embeddings\n",
    "            WHERE embeddings.tags IS NOT NULL\n",
    "            \n",
    "            // Unwind to process each tag embedding individually\n",
    "            UNWIND range(0, size(embeddings.tags) - 1) AS i\n",
    "            WITH n, i, embeddings.tags[i] AS tag_vector, n.tags[i] AS tag\n",
    "            \n",
    "            // Calculate similarity score with each tag vector\n",
    "            WITH n, i, tag, tag_vector, gds.similarity.cosine(tag_vector, $query_vector) AS tag_score\n",
    "            \n",
    "            // Only keep the best match per node\n",
    "            WITH n, collect({tag: tag, score: tag_score, index: i}) AS tag_matches\n",
    "            WITH n, apoc.coll.sortDesc(tag_matches) AS sorted_matches\n",
    "            WITH n, sorted_matches[0].tag AS best_tag, sorted_matches[0].score AS best_score\n",
    "            \n",
    "            ORDER BY best_score DESC\n",
    "            LIMIT $limit\n",
    "            RETURN \n",
    "                n.name AS name, \n",
    "                n.description AS description, \n",
    "                n.tags AS tags,\n",
    "                best_tag AS matched_tag,\n",
    "                best_score AS score,\n",
    "                labels(n) AS type,\n",
    "                CASE \n",
    "                    WHEN n.geometry STARTS WITH 'POLYGON' THEN 'Polygon'\n",
    "                    WHEN n.geometry STARTS WITH 'POINT' THEN 'Point'\n",
    "                    ELSE 'Unknown'\n",
    "                END AS geometry_type\n",
    "            \"\"\"\n",
    "        else:\n",
    "            # For name or description search, extract from embeddings_json\n",
    "            search_query = \"\"\"\n",
    "            MATCH (n:POI|AOI)\n",
    "            WHERE n.embeddings_json IS NOT NULL\n",
    "            \n",
    "            // Parse the JSON structure\n",
    "            WITH n, apoc.convert.fromJsonMap(n.embeddings_json) AS embeddings\n",
    "            WHERE embeddings[$search_field] IS NOT NULL\n",
    "            \n",
    "            // Calculate similarity score with the embedding vector\n",
    "            WITH n, embeddings[$search_field] AS vector, gds.similarity.cosine(embeddings[$search_field], $query_vector) AS score\n",
    "            \n",
    "            ORDER BY score DESC\n",
    "            LIMIT $limit\n",
    "            RETURN \n",
    "                n.name AS name, \n",
    "                n.description AS description, \n",
    "                n.tags AS tags,\n",
    "                score,\n",
    "                labels(n) AS type,\n",
    "                CASE \n",
    "                    WHEN n.geometry STARTS WITH 'POLYGON' THEN 'Polygon'\n",
    "                    WHEN n.geometry STARTS WITH 'POINT' THEN 'Point'\n",
    "                    ELSE 'Unknown'\n",
    "                END AS geometry_type\n",
    "            \"\"\"\n",
    "        \n",
    "        # Execute the search with appropriate parameters\n",
    "        params = {\n",
    "            \"query_vector\": query_embedding,\n",
    "            \"limit\": limit\n",
    "        }\n",
    "        \n",
    "        if search_field != \"tags\":\n",
    "            params[\"search_field\"] = search_field\n",
    "            \n",
    "        results = session.run(search_query, params)\n",
    "        records = [record.data() for record in results]\n",
    "        \n",
    "        return pd.DataFrame(records) if records else pd.DataFrame()"
   ]
  },
  {
   "cell_type": "code",
   "execution_count": 12,
   "id": "d58a5fd0",
   "metadata": {},
   "outputs": [
    {
     "ename": "CypherSyntaxError",
     "evalue": "{code: Neo.ClientError.Statement.SyntaxError} {message: Unknown function 'gds.similarity.cosine' (line 10, column 58 (offset: 404))\n\"            WITH n, embeddings[$search_field] AS vector, gds.similarity.cosine(embeddings[$search_field], $query_vector) AS score\"\n                                                          ^}",
     "output_type": "error",
     "traceback": [
      "\u001b[1;31m---------------------------------------------------------------------------\u001b[0m",
      "\u001b[1;31mGqlError\u001b[0m                                  Traceback (most recent call last)",
      "\u001b[1;31mGqlError\u001b[0m: {gql_status: 42N48} {gql_status_description: error: syntax error or access rule violation - no such function. The function gds.similarity.cosine() was not found. Verify that the spelling is correct.} {message: 42N48: The function gds.similarity.cosine() was not found. Verify that the spelling is correct.} {diagnostic_record: {'_classification': 'CLIENT_ERROR', '_position': {'column': 58, 'offset': 404, 'line': 10}, 'OPERATION': '', 'OPERATION_CODE': '0', 'CURRENT_SCHEMA': '/'}} {raw_classification: CLIENT_ERROR}",
      "\nThe above exception was the direct cause of the following exception:\n",
      "\u001b[1;31mCypherSyntaxError\u001b[0m                         Traceback (most recent call last)",
      "Cell \u001b[1;32mIn[12], line 1\u001b[0m\n\u001b[1;32m----> 1\u001b[0m \u001b[43msearch_similar_entities\u001b[49m\u001b[43m(\u001b[49m\u001b[43mdriver\u001b[49m\u001b[43m,\u001b[49m\u001b[43m \u001b[49m\u001b[43mquery_embedding\u001b[49m\u001b[43m,\u001b[49m\u001b[43m \u001b[49m\u001b[43msearch_field\u001b[49m\u001b[38;5;241;43m=\u001b[39;49m\u001b[38;5;124;43m\"\u001b[39;49m\u001b[38;5;124;43mname\u001b[39;49m\u001b[38;5;124;43m\"\u001b[39;49m\u001b[43m,\u001b[49m\u001b[43m \u001b[49m\u001b[43mlimit\u001b[49m\u001b[38;5;241;43m=\u001b[39;49m\u001b[38;5;241;43m10\u001b[39;49m\u001b[43m)\u001b[49m\n",
      "Cell \u001b[1;32mIn[11], line 89\u001b[0m, in \u001b[0;36msearch_similar_entities\u001b[1;34m(driver, query_embedding, search_field, limit)\u001b[0m\n\u001b[0;32m     86\u001b[0m \u001b[38;5;28;01mif\u001b[39;00m search_field \u001b[38;5;241m!=\u001b[39m \u001b[38;5;124m\"\u001b[39m\u001b[38;5;124mtags\u001b[39m\u001b[38;5;124m\"\u001b[39m:\n\u001b[0;32m     87\u001b[0m     params[\u001b[38;5;124m\"\u001b[39m\u001b[38;5;124msearch_field\u001b[39m\u001b[38;5;124m\"\u001b[39m] \u001b[38;5;241m=\u001b[39m search_field\n\u001b[1;32m---> 89\u001b[0m results \u001b[38;5;241m=\u001b[39m \u001b[43msession\u001b[49m\u001b[38;5;241;43m.\u001b[39;49m\u001b[43mrun\u001b[49m\u001b[43m(\u001b[49m\u001b[43msearch_query\u001b[49m\u001b[43m,\u001b[49m\u001b[43m \u001b[49m\u001b[43mparams\u001b[49m\u001b[43m)\u001b[49m\n\u001b[0;32m     90\u001b[0m records \u001b[38;5;241m=\u001b[39m [record\u001b[38;5;241m.\u001b[39mdata() \u001b[38;5;28;01mfor\u001b[39;00m record \u001b[38;5;129;01min\u001b[39;00m results]\n\u001b[0;32m     92\u001b[0m \u001b[38;5;28;01mreturn\u001b[39;00m pd\u001b[38;5;241m.\u001b[39mDataFrame(records) \u001b[38;5;28;01mif\u001b[39;00m records \u001b[38;5;28;01melse\u001b[39;00m pd\u001b[38;5;241m.\u001b[39mDataFrame()\n",
      "File \u001b[1;32mc:\\Users\\paul-\\anaconda3\\envs\\py310\\lib\\site-packages\\neo4j\\_sync\\work\\session.py:328\u001b[0m, in \u001b[0;36mSession.run\u001b[1;34m(self, query, parameters, **kwargs)\u001b[0m\n\u001b[0;32m    326\u001b[0m bookmarks \u001b[38;5;241m=\u001b[39m \u001b[38;5;28mself\u001b[39m\u001b[38;5;241m.\u001b[39m_get_bookmarks()\n\u001b[0;32m    327\u001b[0m parameters \u001b[38;5;241m=\u001b[39m \u001b[38;5;28mdict\u001b[39m(parameters \u001b[38;5;129;01mor\u001b[39;00m {}, \u001b[38;5;241m*\u001b[39m\u001b[38;5;241m*\u001b[39mkwargs)\n\u001b[1;32m--> 328\u001b[0m \u001b[38;5;28;43mself\u001b[39;49m\u001b[38;5;241;43m.\u001b[39;49m\u001b[43m_auto_result\u001b[49m\u001b[38;5;241;43m.\u001b[39;49m\u001b[43m_run\u001b[49m\u001b[43m(\u001b[49m\n\u001b[0;32m    329\u001b[0m \u001b[43m    \u001b[49m\u001b[43mquery\u001b[49m\u001b[43m,\u001b[49m\n\u001b[0;32m    330\u001b[0m \u001b[43m    \u001b[49m\u001b[43mparameters\u001b[49m\u001b[43m,\u001b[49m\n\u001b[0;32m    331\u001b[0m \u001b[43m    \u001b[49m\u001b[38;5;28;43mself\u001b[39;49m\u001b[38;5;241;43m.\u001b[39;49m\u001b[43m_config\u001b[49m\u001b[38;5;241;43m.\u001b[39;49m\u001b[43mdatabase\u001b[49m\u001b[43m,\u001b[49m\n\u001b[0;32m    332\u001b[0m \u001b[43m    \u001b[49m\u001b[38;5;28;43mself\u001b[39;49m\u001b[38;5;241;43m.\u001b[39;49m\u001b[43m_config\u001b[49m\u001b[38;5;241;43m.\u001b[39;49m\u001b[43mimpersonated_user\u001b[49m\u001b[43m,\u001b[49m\n\u001b[0;32m    333\u001b[0m \u001b[43m    \u001b[49m\u001b[38;5;28;43mself\u001b[39;49m\u001b[38;5;241;43m.\u001b[39;49m\u001b[43m_config\u001b[49m\u001b[38;5;241;43m.\u001b[39;49m\u001b[43mdefault_access_mode\u001b[49m\u001b[43m,\u001b[49m\n\u001b[0;32m    334\u001b[0m \u001b[43m    \u001b[49m\u001b[43mbookmarks\u001b[49m\u001b[43m,\u001b[49m\n\u001b[0;32m    335\u001b[0m \u001b[43m    \u001b[49m\u001b[38;5;28;43mself\u001b[39;49m\u001b[38;5;241;43m.\u001b[39;49m\u001b[43m_config\u001b[49m\u001b[38;5;241;43m.\u001b[39;49m\u001b[43mnotifications_min_severity\u001b[49m\u001b[43m,\u001b[49m\n\u001b[0;32m    336\u001b[0m \u001b[43m    \u001b[49m\u001b[38;5;28;43mself\u001b[39;49m\u001b[38;5;241;43m.\u001b[39;49m\u001b[43m_config\u001b[49m\u001b[38;5;241;43m.\u001b[39;49m\u001b[43mnotifications_disabled_classifications\u001b[49m\u001b[43m,\u001b[49m\n\u001b[0;32m    337\u001b[0m \u001b[43m\u001b[49m\u001b[43m)\u001b[49m\n\u001b[0;32m    339\u001b[0m \u001b[38;5;28;01mreturn\u001b[39;00m \u001b[38;5;28mself\u001b[39m\u001b[38;5;241m.\u001b[39m_auto_result\n",
      "File \u001b[1;32mc:\\Users\\paul-\\anaconda3\\envs\\py310\\lib\\site-packages\\neo4j\\_sync\\work\\result.py:236\u001b[0m, in \u001b[0;36mResult._run\u001b[1;34m(self, query, parameters, db, imp_user, access_mode, bookmarks, notifications_min_severity, notifications_disabled_classifications)\u001b[0m\n\u001b[0;32m    234\u001b[0m \u001b[38;5;28mself\u001b[39m\u001b[38;5;241m.\u001b[39m_pull()\n\u001b[0;32m    235\u001b[0m \u001b[38;5;28mself\u001b[39m\u001b[38;5;241m.\u001b[39m_connection\u001b[38;5;241m.\u001b[39msend_all()\n\u001b[1;32m--> 236\u001b[0m \u001b[38;5;28;43mself\u001b[39;49m\u001b[38;5;241;43m.\u001b[39;49m\u001b[43m_attach\u001b[49m\u001b[43m(\u001b[49m\u001b[43m)\u001b[49m\n",
      "File \u001b[1;32mc:\\Users\\paul-\\anaconda3\\envs\\py310\\lib\\site-packages\\neo4j\\_sync\\work\\result.py:430\u001b[0m, in \u001b[0;36mResult._attach\u001b[1;34m(self)\u001b[0m\n\u001b[0;32m    428\u001b[0m \u001b[38;5;28;01mif\u001b[39;00m \u001b[38;5;28mself\u001b[39m\u001b[38;5;241m.\u001b[39m_exhausted \u001b[38;5;129;01mis\u001b[39;00m \u001b[38;5;28;01mFalse\u001b[39;00m:\n\u001b[0;32m    429\u001b[0m     \u001b[38;5;28;01mwhile\u001b[39;00m \u001b[38;5;28mself\u001b[39m\u001b[38;5;241m.\u001b[39m_attached \u001b[38;5;129;01mis\u001b[39;00m \u001b[38;5;28;01mFalse\u001b[39;00m:\n\u001b[1;32m--> 430\u001b[0m         \u001b[38;5;28;43mself\u001b[39;49m\u001b[38;5;241;43m.\u001b[39;49m\u001b[43m_connection\u001b[49m\u001b[38;5;241;43m.\u001b[39;49m\u001b[43mfetch_message\u001b[49m\u001b[43m(\u001b[49m\u001b[43m)\u001b[49m\n",
      "File \u001b[1;32mc:\\Users\\paul-\\anaconda3\\envs\\py310\\lib\\site-packages\\neo4j\\_sync\\io\\_common.py:184\u001b[0m, in \u001b[0;36mConnectionErrorHandler.__getattr__.<locals>.outer.<locals>.inner\u001b[1;34m(*args, **kwargs)\u001b[0m\n\u001b[0;32m    182\u001b[0m \u001b[38;5;28;01mdef\u001b[39;00m\u001b[38;5;250m \u001b[39m\u001b[38;5;21minner\u001b[39m(\u001b[38;5;241m*\u001b[39margs, \u001b[38;5;241m*\u001b[39m\u001b[38;5;241m*\u001b[39mkwargs):\n\u001b[0;32m    183\u001b[0m     \u001b[38;5;28;01mtry\u001b[39;00m:\n\u001b[1;32m--> 184\u001b[0m         func(\u001b[38;5;241m*\u001b[39margs, \u001b[38;5;241m*\u001b[39m\u001b[38;5;241m*\u001b[39mkwargs)\n\u001b[0;32m    185\u001b[0m     \u001b[38;5;28;01mexcept\u001b[39;00m (Neo4jError, ServiceUnavailable, SessionExpired) \u001b[38;5;28;01mas\u001b[39;00m exc:\n\u001b[0;32m    186\u001b[0m         \u001b[38;5;28;01massert\u001b[39;00m \u001b[38;5;129;01mnot\u001b[39;00m asyncio\u001b[38;5;241m.\u001b[39miscoroutinefunction(\u001b[38;5;28mself\u001b[39m\u001b[38;5;241m.\u001b[39m__on_error)\n",
      "File \u001b[1;32mc:\\Users\\paul-\\anaconda3\\envs\\py310\\lib\\site-packages\\neo4j\\_sync\\io\\_bolt.py:864\u001b[0m, in \u001b[0;36mBolt.fetch_message\u001b[1;34m(self)\u001b[0m\n\u001b[0;32m    860\u001b[0m \u001b[38;5;66;03m# Receive exactly one message\u001b[39;00m\n\u001b[0;32m    861\u001b[0m tag, fields \u001b[38;5;241m=\u001b[39m \u001b[38;5;28mself\u001b[39m\u001b[38;5;241m.\u001b[39minbox\u001b[38;5;241m.\u001b[39mpop(\n\u001b[0;32m    862\u001b[0m     hydration_hooks\u001b[38;5;241m=\u001b[39m\u001b[38;5;28mself\u001b[39m\u001b[38;5;241m.\u001b[39mresponses[\u001b[38;5;241m0\u001b[39m]\u001b[38;5;241m.\u001b[39mhydration_hooks\n\u001b[0;32m    863\u001b[0m )\n\u001b[1;32m--> 864\u001b[0m res \u001b[38;5;241m=\u001b[39m \u001b[38;5;28;43mself\u001b[39;49m\u001b[38;5;241;43m.\u001b[39;49m\u001b[43m_process_message\u001b[49m\u001b[43m(\u001b[49m\u001b[43mtag\u001b[49m\u001b[43m,\u001b[49m\u001b[43m \u001b[49m\u001b[43mfields\u001b[49m\u001b[43m)\u001b[49m\n\u001b[0;32m    865\u001b[0m \u001b[38;5;28mself\u001b[39m\u001b[38;5;241m.\u001b[39midle_since \u001b[38;5;241m=\u001b[39m monotonic()\n\u001b[0;32m    866\u001b[0m \u001b[38;5;28;01mreturn\u001b[39;00m res\n",
      "File \u001b[1;32mc:\\Users\\paul-\\anaconda3\\envs\\py310\\lib\\site-packages\\neo4j\\_sync\\io\\_bolt5.py:1208\u001b[0m, in \u001b[0;36mBolt5x7._process_message\u001b[1;34m(self, tag, fields)\u001b[0m\n\u001b[0;32m   1206\u001b[0m \u001b[38;5;28mself\u001b[39m\u001b[38;5;241m.\u001b[39m_enrich_error_diagnostic_record(summary_metadata)\n\u001b[0;32m   1207\u001b[0m \u001b[38;5;28;01mtry\u001b[39;00m:\n\u001b[1;32m-> 1208\u001b[0m     \u001b[43mresponse\u001b[49m\u001b[38;5;241;43m.\u001b[39;49m\u001b[43mon_failure\u001b[49m\u001b[43m(\u001b[49m\u001b[43msummary_metadata\u001b[49m\u001b[43m \u001b[49m\u001b[38;5;129;43;01mor\u001b[39;49;00m\u001b[43m \u001b[49m\u001b[43m{\u001b[49m\u001b[43m}\u001b[49m\u001b[43m)\u001b[49m\n\u001b[0;32m   1209\u001b[0m \u001b[38;5;28;01mexcept\u001b[39;00m (ServiceUnavailable, DatabaseUnavailable):\n\u001b[0;32m   1210\u001b[0m     \u001b[38;5;28;01mif\u001b[39;00m \u001b[38;5;28mself\u001b[39m\u001b[38;5;241m.\u001b[39mpool:\n",
      "File \u001b[1;32mc:\\Users\\paul-\\anaconda3\\envs\\py310\\lib\\site-packages\\neo4j\\_sync\\io\\_common.py:254\u001b[0m, in \u001b[0;36mResponse.on_failure\u001b[1;34m(self, metadata)\u001b[0m\n\u001b[0;32m    252\u001b[0m handler \u001b[38;5;241m=\u001b[39m \u001b[38;5;28mself\u001b[39m\u001b[38;5;241m.\u001b[39mhandlers\u001b[38;5;241m.\u001b[39mget(\u001b[38;5;124m\"\u001b[39m\u001b[38;5;124mon_summary\u001b[39m\u001b[38;5;124m\"\u001b[39m)\n\u001b[0;32m    253\u001b[0m Util\u001b[38;5;241m.\u001b[39mcallback(handler)\n\u001b[1;32m--> 254\u001b[0m \u001b[38;5;28;01mraise\u001b[39;00m \u001b[38;5;28mself\u001b[39m\u001b[38;5;241m.\u001b[39m_hydrate_error(metadata)\n",
      "\u001b[1;31mCypherSyntaxError\u001b[0m: {code: Neo.ClientError.Statement.SyntaxError} {message: Unknown function 'gds.similarity.cosine' (line 10, column 58 (offset: 404))\n\"            WITH n, embeddings[$search_field] AS vector, gds.similarity.cosine(embeddings[$search_field], $query_vector) AS score\"\n                                                          ^}"
     ]
    }
   ],
   "source": [
    "search_similar_entities(driver, query_embedding, search_field=\"name\", limit=10)"
   ]
  }
 ],
 "metadata": {
  "kernelspec": {
   "display_name": "py310",
   "language": "python",
   "name": "python3"
  },
  "language_info": {
   "codemirror_mode": {
    "name": "ipython",
    "version": 3
   },
   "file_extension": ".py",
   "mimetype": "text/x-python",
   "name": "python",
   "nbconvert_exporter": "python",
   "pygments_lexer": "ipython3",
   "version": "3.10.16"
  }
 },
 "nbformat": 4,
 "nbformat_minor": 5
}
