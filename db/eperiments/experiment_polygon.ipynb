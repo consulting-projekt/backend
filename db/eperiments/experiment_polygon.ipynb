{
 "cells": [
  {
   "cell_type": "code",
   "execution_count": 2,
   "metadata": {},
   "outputs": [],
   "source": [
    "from shapely.geometry import Polygon\n",
    "from shapely.wkt import loads\n",
    "import numpy as np"
   ]
  },
  {
   "cell_type": "code",
   "execution_count": null,
   "metadata": {},
   "outputs": [
    {
     "name": "stdout",
     "output_type": "stream",
     "text": [
      "Fläche des Polygons: 6.28549999999296e-07 Quadratgrad\n",
      "Ungefähre Fläche in m²: 4627.574004287424\n",
      "Centroid: POINT (9.98513894068358 53.55694706626359)\n"
     ]
    }
   ],
   "source": [
    "\n",
    "# Justizgebäude\n",
    "# Dein Polygon als WKT-String (ich habe es leicht formatiert)\n",
    "polygon_wkt = \"\"\"POLYGON ((9.98443 53.55664, 9.9844 53.55666, 9.98436 53.55668, 9.98435 53.55705, 9.98476 53.55716, 9.98527 53.5573, 9.9858 53.55745, 9.9858 53.55728, 9.9858 53.55724, 9.9858 53.55719, 9.9858 53.55698, 9.98575 53.55698, 9.98576 53.55678, 9.9858 53.55677, 9.9858 53.55663, 9.98443 53.55664), (9.98539 53.55722, 9.98543 53.55717, 9.98514 53.55709, 9.9851 53.55714, 9.98483 53.55706, 9.98484 53.55703, 9.9847 53.55699, 9.98463 53.55698, 9.98463 53.5568, 9.98455 53.5568, 9.98455 53.55676, 9.98468 53.55676, 9.98469 53.55674, 9.985 53.55674, 9.98499 53.5568, 9.9849 53.5568, 9.98486 53.55684, 9.98487 53.55693, 9.98491 53.55697, 9.98494 53.557, 9.98506 53.557, 9.98535 53.557, 9.98539 53.55697, 9.98543 53.55697, 9.98543 53.5568, 9.98531 53.5568, 9.98532 53.55673, 9.98559 53.55673, 9.9856 53.5572, 9.98563 53.55723, 9.9857 53.55723, 9.98571 53.55725, 9.98567 53.55729, 9.98539 53.55722))\"\"\"\n",
    "\n",
    "# Polygon-Objekt aus WKT erstellen\n",
    "polygon = loads(polygon_wkt)\n",
    "\n",
    "# Fläche berechnen (in Quadratgrad für WGS84)\n",
    "area = polygon.area\n",
    "print(f\"Fläche des Polygons: {area} Quadratgrad\")\n",
    "print(f\"Ungefähre Fläche in m²: {area * 111319 * 111319 * np.cos(np.radians(53.55))}\")\n",
    "\n",
    "# Centroid berechnen\n",
    "centroid = polygon.centroid\n",
    "print(f\"Centroid: POINT ({centroid.x} {centroid.y})\")"
   ]
  },
  {
   "cell_type": "code",
   "execution_count": 5,
   "metadata": {},
   "outputs": [
    {
     "name": "stdout",
     "output_type": "stream",
     "text": [
      "0.5 km² entspricht ungefähr 0.0000679123 Quadratgrad bei 53.55° nördlicher Breite\n"
     ]
    }
   ],
   "source": [
    "\n",
    "# Breitengrad von Hamburg\n",
    "latitude = 53.55\n",
    "\n",
    "# 1 Breitengrad entspricht etwa 111.32 km (relativ konstant)\n",
    "# 1 Längengrad bei diesem Breitengrad entspricht etwa 111.32 * cos(latitude) km\n",
    "km_per_lat_degree = 111.32\n",
    "km_per_lon_degree = 111.32 * np.cos(np.radians(latitude))\n",
    "\n",
    "# Fläche von 0.5 km²\n",
    "area_in_sq_km = 0.5\n",
    "\n",
    "# Umrechnung in Quadratgrad\n",
    "area_in_sq_degrees = area_in_sq_km / (km_per_lat_degree * km_per_lon_degree)\n",
    "\n",
    "print(f\"0.5 km² entspricht ungefähr {area_in_sq_degrees:.10f} Quadratgrad bei {latitude}° nördlicher Breite\")"
   ]
  }
 ],
 "metadata": {
  "kernelspec": {
   "display_name": "py310",
   "language": "python",
   "name": "python3"
  },
  "language_info": {
   "codemirror_mode": {
    "name": "ipython",
    "version": 3
   },
   "file_extension": ".py",
   "mimetype": "text/x-python",
   "name": "python",
   "nbconvert_exporter": "python",
   "pygments_lexer": "ipython3",
   "version": "3.10.16"
  }
 },
 "nbformat": 4,
 "nbformat_minor": 2
}
