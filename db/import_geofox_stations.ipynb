{
 "cells": [
  {
   "cell_type": "code",
   "execution_count": 2,
   "metadata": {},
   "outputs": [],
   "source": [
    "import neo4j\n",
    "import pandas as pd\n",
    "from utils import simplify_to_centroid_if_small\n",
    "from utils_neo4j import init, station_insert_query, del_stations\n",
    "from geofox_client import get_geofox_client\n",
    "from utils_geofox import get_stations, stationdf2rows\n",
    "import pandas as pd"
   ]
  },
  {
   "cell_type": "code",
   "execution_count": 3,
   "metadata": {},
   "outputs": [],
   "source": [
    "NEO4J_URI = \"bolt://localhost:7689\"\n",
    "NEO4J_USER = \"neo4j\"\n",
    "NEO4J_PASSWORD = \"busticket123\"\n",
    "\n",
    "driver = neo4j.GraphDatabase.driver(NEO4J_URI, auth=(NEO4J_USER, NEO4J_PASSWORD))\n",
    "init(driver)"
   ]
  },
  {
   "cell_type": "code",
   "execution_count": 4,
   "metadata": {},
   "outputs": [],
   "source": [
    "client = get_geofox_client()"
   ]
  },
  {
   "cell_type": "code",
   "execution_count": 5,
   "metadata": {},
   "outputs": [],
   "source": [
    "# Fetch the POIs\n",
    "stations = get_stations(client, loadFromDisk=True)['stations']"
   ]
  },
  {
   "cell_type": "code",
   "execution_count": 6,
   "metadata": {},
   "outputs": [],
   "source": [
    "df_stations = pd.DataFrame(stations)"
   ]
  },
  {
   "cell_type": "code",
   "execution_count": 7,
   "metadata": {},
   "outputs": [
    {
     "data": {
      "text/plain": [
       "['id',\n",
       " 'name',\n",
       " 'city',\n",
       " 'combinedName',\n",
       " 'vehicleTypes',\n",
       " 'coordinate',\n",
       " 'aliasses',\n",
       " 'shortcuts']"
      ]
     },
     "execution_count": 7,
     "metadata": {},
     "output_type": "execute_result"
    }
   ],
   "source": [
    "df_stations.columns.to_list()"
   ]
  },
  {
   "cell_type": "code",
   "execution_count": 8,
   "metadata": {},
   "outputs": [],
   "source": [
    "impcols = ['id', 'name', 'city', 'vehicleTypes', 'coordinate', 'aliasses']"
   ]
  },
  {
   "cell_type": "code",
   "execution_count": 9,
   "metadata": {},
   "outputs": [],
   "source": [
    "df_stations_impcols = df_stations[impcols]"
   ]
  },
  {
   "cell_type": "code",
   "execution_count": 10,
   "metadata": {},
   "outputs": [
    {
     "data": {
      "text/html": [
       "<div>\n",
       "<style scoped>\n",
       "    .dataframe tbody tr th:only-of-type {\n",
       "        vertical-align: middle;\n",
       "    }\n",
       "\n",
       "    .dataframe tbody tr th {\n",
       "        vertical-align: top;\n",
       "    }\n",
       "\n",
       "    .dataframe thead th {\n",
       "        text-align: right;\n",
       "    }\n",
       "</style>\n",
       "<table border=\"1\" class=\"dataframe\">\n",
       "  <thead>\n",
       "    <tr style=\"text-align: right;\">\n",
       "      <th></th>\n",
       "      <th>id</th>\n",
       "      <th>name</th>\n",
       "      <th>city</th>\n",
       "      <th>vehicleTypes</th>\n",
       "      <th>coordinate</th>\n",
       "      <th>aliasses</th>\n",
       "    </tr>\n",
       "  </thead>\n",
       "  <tbody>\n",
       "    <tr>\n",
       "      <th>count</th>\n",
       "      <td>8828</td>\n",
       "      <td>8828</td>\n",
       "      <td>8828</td>\n",
       "      <td>8828</td>\n",
       "      <td>8828</td>\n",
       "      <td>2976</td>\n",
       "    </tr>\n",
       "    <tr>\n",
       "      <th>unique</th>\n",
       "      <td>8828</td>\n",
       "      <td>7083</td>\n",
       "      <td>1098</td>\n",
       "      <td>32</td>\n",
       "      <td>8828</td>\n",
       "      <td>2976</td>\n",
       "    </tr>\n",
       "    <tr>\n",
       "      <th>top</th>\n",
       "      <td>Master:90650901</td>\n",
       "      <td>Schule</td>\n",
       "      <td>Hamburg</td>\n",
       "      <td>[REGIONALBUS]</td>\n",
       "      <td>{'x': 9.536332, 'y': 53.842018}</td>\n",
       "      <td>[Kleve (Itzehoe) Abzw. Rahde]</td>\n",
       "    </tr>\n",
       "    <tr>\n",
       "      <th>freq</th>\n",
       "      <td>1</td>\n",
       "      <td>91</td>\n",
       "      <td>2307</td>\n",
       "      <td>5453</td>\n",
       "      <td>1</td>\n",
       "      <td>1</td>\n",
       "    </tr>\n",
       "  </tbody>\n",
       "</table>\n",
       "</div>"
      ],
      "text/plain": [
       "                     id    name     city   vehicleTypes  \\\n",
       "count              8828    8828     8828           8828   \n",
       "unique             8828    7083     1098             32   \n",
       "top     Master:90650901  Schule  Hamburg  [REGIONALBUS]   \n",
       "freq                  1      91     2307           5453   \n",
       "\n",
       "                             coordinate                       aliasses  \n",
       "count                              8828                           2976  \n",
       "unique                             8828                           2976  \n",
       "top     {'x': 9.536332, 'y': 53.842018}  [Kleve (Itzehoe) Abzw. Rahde]  \n",
       "freq                                  1                              1  "
      ]
     },
     "execution_count": 10,
     "metadata": {},
     "output_type": "execute_result"
    }
   ],
   "source": [
    "df_stations_impcols.describe()"
   ]
  },
  {
   "cell_type": "code",
   "execution_count": 12,
   "metadata": {},
   "outputs": [],
   "source": [
    "rows = stationdf2rows(df_stations_impcols)"
   ]
  },
  {
   "cell_type": "code",
   "execution_count": 14,
   "metadata": {},
   "outputs": [
    {
     "name": "stdout",
     "output_type": "stream",
     "text": [
      "Imported 8828 stations\n"
     ]
    }
   ],
   "source": [
    "# Execute the query\n",
    "with driver.session() as session:\n",
    "    del_stations(session)\n",
    "    result = session.run(station_insert_query, rows=rows)\n",
    "    print(f\"Imported {result.single()['total']} stations\")\n",
    "\n",
    "driver.close()"
   ]
  }
 ],
 "metadata": {
  "kernelspec": {
   "display_name": "py310",
   "language": "python",
   "name": "python3"
  },
  "language_info": {
   "codemirror_mode": {
    "name": "ipython",
    "version": 3
   },
   "file_extension": ".py",
   "mimetype": "text/x-python",
   "name": "python",
   "nbconvert_exporter": "python",
   "pygments_lexer": "ipython3",
   "version": "3.10.16"
  }
 },
 "nbformat": 4,
 "nbformat_minor": 2
}
